{
 "cells": [
  {
   "cell_type": "code",
   "execution_count": 1,
   "metadata": {},
   "outputs": [],
   "source": [
    "import numpy as np\n",
    "import math\n",
    "import matplotlib\n",
    "import matplotlib.pyplot as plt"
   ]
  },
  {
   "cell_type": "code",
   "execution_count": 2,
   "metadata": {},
   "outputs": [],
   "source": [
    "Markov_P = [[.822, .178], [.0059, .9941]]\n",
    "p_status = 1"
   ]
  },
  {
   "cell_type": "code",
   "execution_count": 3,
   "metadata": {},
   "outputs": [
    {
     "name": "stdout",
     "output_type": "stream",
     "text": [
      "[[0.03208266 0.96791734]\n",
      " [0.03208265 0.96791735]]\n"
     ]
    }
   ],
   "source": [
    "print(np.linalg.matrix_power(Markov_P, 100))"
   ]
  },
  {
   "cell_type": "code",
   "execution_count": 4,
   "metadata": {},
   "outputs": [
    {
     "name": "stdout",
     "output_type": "stream",
     "text": [
      "5.61398\n"
     ]
    },
    {
     "data": {
      "image/png": "[encoded data removed]",
      "text/plain": [
       "<Figure size 432x288 with 1 Axes>"
      ]
     },
     "metadata": {
      "needs_background": "light"
     },
     "output_type": "display_data"
    }
   ],
   "source": [
    "p = .822\n",
    "data = []\n",
    "for i in range(100000):\n",
    "    s = 1\n",
    "    sick = True\n",
    "    while sick:\n",
    "        if np.random.rand() <= p:\n",
    "            s+=1\n",
    "        else:\n",
    "            data.append(s)\n",
    "            sick = False\n",
    "print(sum(data)/len(data))\n",
    "plt.hist(data, bins=int(math.sqrt(len(data))), range=(0,25), color='#7d99c8')\n",
    "plt.box(False)\n",
    "plt.xlabel('number of consecutive sick days'.format('Arial'))\n",
    "plt.ylabel('count'.format('Arial'))\n",
    "plt.savefig('pilot sick duration.jpg')"
   ]
  },
  {
   "cell_type": "code",
   "execution_count": 5,
   "metadata": {},
   "outputs": [],
   "source": [
    "def status(p_status):\n",
    "    if np.random.random() >= Markov_P[p_status][p_status]:\n",
    "        return abs(p_status-1)\n",
    "    else: \n",
    "        return p_status"
   ]
  },
  {
   "cell_type": "code",
   "execution_count": 6,
   "metadata": {},
   "outputs": [
    {
     "name": "stdout",
     "output_type": "stream",
     "text": [
      "0.031991940310501045\n"
     ]
    }
   ],
   "source": [
    "stats = []\n",
    "stats_avg = []\n",
    "for j in range(1000):\n",
    "    p_status = 1\n",
    "    for i in range(365):\n",
    "        p_status = status(p_status)\n",
    "        stats.append(p_status)\n",
    "    avg = (len(stats)-sum(stats))/len(stats)\n",
    "    stats_avg.append(avg)\n",
    "#print(stats_avg)\n",
    "print(sum(stats_avg)/len(stats_avg))\n",
    "#print((len(stats)-sum(stats))/len(stats))"
   ]
  },
  {
   "cell_type": "code",
   "execution_count": 7,
   "metadata": {},
   "outputs": [
    {
     "name": "stdout",
     "output_type": "stream",
     "text": [
      "[[0.02191781 0.02191781 0.02374429 ... 0.03201197 0.03197993 0.03195616]\n",
      " [0.0109589  0.01506849 0.02100457 ... 0.02951382 0.02948428 0.02948493]\n",
      " [0.03561644 0.05479452 0.03926941 ... 0.03281083 0.03281089 0.03278904]\n",
      " ...\n",
      " [0.09863014 0.0890411  0.06575342 ... 0.032281   0.03227063 0.03225479]\n",
      " [0.03013699 0.01917808 0.01369863 ... 0.03051034 0.0305319  0.03053151]\n",
      " [0.0109589  0.02191781 0.01461187 ... 0.03220962 0.03221578 0.03227397]]\n"
     ]
    }
   ],
   "source": [
    "data = np.empty((1000,1000))\n",
    "for k in range(1000):\n",
    "    stats_avg = []\n",
    "    stats = []\n",
    "    for j in range(1000):\n",
    "        p_status = 1\n",
    "\n",
    "        for i in range(365):\n",
    "            p_status = status(p_status)\n",
    "            stats.append(p_status)\n",
    "        avg = (len(stats)-sum(stats))/len(stats)\n",
    "        stats_avg.append(avg)\n",
    "    for m in range(len(stats_avg)):\n",
    "        data[k][m] = stats_avg[m]\n",
    "    #print(stats_avg)\n",
    "    #print(sum(stats_avg)/len(stats_avg))\n",
    "#print(data[0])\n",
    "    #print((len(stats)-sum(stats))/len(stats))\n",
    "print(data)\n",
    "#plt.plot(data[:][0])\n",
    "#plt.plot(data[0], color='#7d99c8')"
   ]
  },
  {
   "cell_type": "code",
   "execution_count": 8,
   "metadata": {},
   "outputs": [],
   "source": [
    "import pandas as pd"
   ]
  },
  {
   "cell_type": "code",
   "execution_count": 9,
   "metadata": {},
   "outputs": [],
   "source": [
    "df = pd.DataFrame(data)"
   ]
  },
  {
   "cell_type": "code",
   "execution_count": 10,
   "metadata": {},
   "outputs": [],
   "source": [
    "df.to_excel('data.xlsx', index=False)"
   ]
  },
  {
   "cell_type": "code",
   "execution_count": 11,
   "metadata": {},
   "outputs": [
    {
     "name": "stdout",
     "output_type": "stream",
     "text": [
      "[<matplotlib.lines.Line2D object at 0x000002BB8A831220>]\n"
     ]
    },
    {
     "data": {
      "image/png": "[encoded data removed]",
      "text/plain": [
       "<Figure size 432x288 with 1 Axes>"
      ]
     },
     "metadata": {
      "needs_background": "light"
     },
     "output_type": "display_data"
    }
   ],
   "source": [
    "print(plt.plot(stats_avg[2:-1], color='#7d99c8'))"
   ]
  },
  {
   "cell_type": "code",
   "execution_count": null,
   "metadata": {},
   "outputs": [],
   "source": []
  },
  {
   "cell_type": "code",
   "execution_count": 12,
   "metadata": {},
   "outputs": [
    {
     "ename": "NameError",
     "evalue": "name 'max_run' is not defined",
     "output_type": "error",
     "traceback": [
      "\u001b[1;31m---------------------------------------------------------------------------\u001b[0m",
      "\u001b[1;31mNameError\u001b[0m                                 Traceback (most recent call last)",
      "\u001b[1;32m<ipython-input-12-4a69a11ae365>\u001b[0m in \u001b[0;36m<module>\u001b[1;34m\u001b[0m\n\u001b[1;32m----> 1\u001b[1;33m \u001b[0mprint\u001b[0m\u001b[1;33m(\u001b[0m\u001b[0mmax_run\u001b[0m\u001b[1;33m)\u001b[0m\u001b[1;33m\u001b[0m\u001b[1;33m\u001b[0m\u001b[0m\n\u001b[0m",
      "\u001b[1;31mNameError\u001b[0m: name 'max_run' is not defined"
     ]
    }
   ],
   "source": [
    "print(max_run)"
   ]
  },
  {
   "cell_type": "code",
   "execution_count": null,
   "metadata": {},
   "outputs": [],
   "source": [
    "print(plt.plot(max_run[2:-1], color='#7d99c8'))"
   ]
  },
  {
   "cell_type": "code",
   "execution_count": null,
   "metadata": {},
   "outputs": [],
   "source": [
    "\n",
    "#plt.plot(max_run[2:-1], color='#7d99c8')\n",
    "#plt.plot(min_run[2:-1], color='#7d99c8')\n",
    "for i in range(100):\n",
    "    plt.plot(data[2:-1][i], color='#7d99c8')\n",
    "plt.hlines(.032, 5, len(max_run), colors='#D7892D', label='2020 average'.format('Arial'))\n",
    "plt.hlines(.034, 5, len(max_run), colors='#FF4B4B',label='2019 average'.format('Arial'), linestyle='dashed')\n",
    "plt.hlines(.035, 5, len(max_run), colors='k', label='2018 average'.format('Arial'), linestyle='dotted')\n",
    "plt.legend()\n",
    "plt.box(False)\n",
    "plt.xlabel('number of iterations of 1 calender year'.format('Arial'))\n",
    "plt.ylabel('yearly fraction of sick days'.format('Arial'))\n",
    "plt.savefig('pilot illness.jpg')"
   ]
  },
  {
   "cell_type": "code",
   "execution_count": null,
   "metadata": {},
   "outputs": [],
   "source": []
  },
  {
   "cell_type": "code",
   "execution_count": null,
   "metadata": {},
   "outputs": [],
   "source": []
  }
 ],
 "metadata": {
  "kernelspec": {
   "display_name": "Python 3",
   "language": "python",
   "name": "python3"
  },
  "language_info": {
   "codemirror_mode": {
    "name": "ipython",
    "version": 3
   },
   "file_extension": ".py",
   "mimetype": "text/x-python",
   "name": "python",
   "nbconvert_exporter": "python",
   "pygments_lexer": "ipython3",
   "version": "3.8.3"
  }
 },
 "nbformat": 4,
 "nbformat_minor": 4
}

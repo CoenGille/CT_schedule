{
 "cells": [
  {
   "cell_type": "code",
   "execution_count": 1,
   "metadata": {},
   "outputs": [],
   "source": [
    "import glob\n",
    "\n",
    "import csv\n",
    "import statistics\n",
    "import json\n",
    "import math\n",
    "import matplotlib.pyplot as plt\n",
    "import numpy as np\n",
    "import pandas as pd\n",
    "from pingouin import mwu\n",
    "import pylab as py\n",
    "from scipy.stats import pearsonr, ttest_ind, f_oneway, kruskal, tukey_hsd, mannwhitneyu\n",
    "#import statsmodels.api as sm"
   ]
  },
  {
   "cell_type": "markdown",
   "metadata": {},
   "source": [
    "Settings for data analysis: "
   ]
  },
  {
   "cell_type": "code",
   "execution_count": 2,
   "metadata": {},
   "outputs": [],
   "source": [
    "verbose  = False"
   ]
  },
  {
   "cell_type": "markdown",
   "metadata": {},
   "source": [
    "Statistics functions:"
   ]
  },
  {
   "cell_type": "code",
   "execution_count": 3,
   "metadata": {},
   "outputs": [],
   "source": [
    "def stats(data):\n",
    "    '''Basic statistics. The statistics module doen not adequately handle \n",
    "    integer data'''\n",
    "    mean = sum(data)/len(data)  #mean of dataset \n",
    "    sosq = sum([(i - mean)**2 for i in data])    #sum of squares\n",
    "    var = sosq/(len(data)-1)    #variance of dataset\n",
    "    stdev = math.sqrt(var)      #standard deviation\n",
    "    med = statistics.median(data)\n",
    "    return mean, stdev, med"
   ]
  },
  {
   "cell_type": "code",
   "execution_count": 4,
   "metadata": {},
   "outputs": [],
   "source": [
    "def t_test_2sample(data1, data2, name1, name2):\n",
    "    '''returns APA style report for 2 sample T-test. Independant samples\n",
    "    with equivalent variance are assumed'''\n",
    "    mean1, stdev1, med = stats(data1)\n",
    "    mean2, stdev2, med = stats(data2)\n",
    "    t = ttest_ind(data1, data2)\n",
    "    print('null hypothesis: samples are from populations with identical expected averages')\n",
    "    print(f'{name1} t-test against {name2}:')\n",
    "    print(f'{name1} (M={round(mean1,1)}, SD={round(stdev1,2)})')\n",
    "    print(f'{name2} (M={round(mean2,1)}, SD={round(stdev2,2)})')\n",
    "    print(f'Independant T-test results t({len(data1)-1+len(data2)-1}) = {round(t[0],3)}, p = {round(t[1],3)}')\n",
    "    if t[1] > .001:\n",
    "        print(f'Independant T-test results t({len(data1)-1+len(data2)-1}) = {round(t[0],3)}, p = {round(t[1],3)}')\n",
    "        print('the null hypothesis is not rejected')\n",
    "    else:\n",
    "        print(f'Independant T-test results t({len(data1)-1+len(data2)-1}) = {round(t[0],3)}, p < .001')\n",
    "        print(f'With p < .001 the null hypothesis is rejected')\n"
   ]
  },
  {
   "cell_type": "code",
   "execution_count": 39,
   "metadata": {},
   "outputs": [],
   "source": [
    "def mann_whitney(data1, data2, name1, name2):\n",
    "    '''returns APA style report for 2 sample T-test. Independant samples\n",
    "    with equivalent variance are assumed'''\n",
    "    mean1, stdev1, med1 = stats(data1)\n",
    "    mean2, stdev2, med2 = stats(data2)\n",
    "    u = mannwhitneyu(data1, data2)\n",
    "    u2 = mwu(avgs_SRWC_BR, avgs_SRWC_ACT)\n",
    "    rbc = round(u2['RBC'][0],3)\n",
    "    print('null hypothesis: samples are from populations with identical distributions')\n",
    "    print(f'{name1} Mann-Whitney U test against {name2}:')\n",
    "    print(f'{name1} (Mdn = {round(med1,1)}, N1 = {len(data1)})')\n",
    "    print(f'{name2} (Mdn = {round(med2,1)}, N2 = {len(data2)})')\n",
    "    if u[1] <= .05 and u[1] > .001:\n",
    "        print(f'Mann Whitney test U(N1 = {len(data1)}, N2 = {len(data2)}) = {u[0]}, p = {round(u[1],3)}')\n",
    "        print(f'With a p value of {round(u[1],3)} the null hypothesis is rejected')\n",
    "        print(f'The Rank Biserial Correlation (RBC) effect size is {rbc} ')\n",
    "    elif u[1] <= .001:\n",
    "        print(f'Mann Whitney test U(N1 = {len(data1)}, N2 = {len(data2)}) = {u[0]}, p = {round(u[1],3)}')\n",
    "        print(f'With a p < .001 the null hypothesis is rejected')\n",
    "        print(f'The Rank Biserial Correlation (RBC) effect size is {rbc} ')\n",
    "    else:\n",
    "        print(f'Mann Whitney test U(N1 = {len(data1)}, N2 = {len(data2)}) = {u[0]}, p = {round(u[1],3)}')\n",
    "        print(f'With p = {round(u[1],3)} the null hypothesis is not rejected')\n",
    "\n",
    "    \n"
   ]
  },
  {
   "cell_type": "code",
   "execution_count": 6,
   "metadata": {},
   "outputs": [],
   "source": [
    "def one_way_anova(*args):\n",
    "    f = f_oneway(*args)\n",
    "    BG_df = len(args) - 1\n",
    "    WG_df = sum([len(a) for a in args]) - len(args)\n",
    "    if f[1] <= .05 and f[1] > .001:\n",
    "        print('There is a significant effect of the simulation setting on the number') \n",
    "        print(f'of pilots that succesfully complete the CT program [F({BG_df}, {WG_df}) = {round(f[0],1)}, p = {round(f[1],3)})]')\n",
    "        print('performing post hoc test (Tukey HSD)')\n",
    "        result = tukey_hsd(*args)\n",
    "        print(result)\n",
    "    elif f[1] <= .001:\n",
    "        print('There is a significant effect of the simulation setting on the number') \n",
    "        print(f'of pilots that succesfully complete the CT program [F({BG_df}, {WG_df}) = {round(f[0],1)}, p < .001)]')\n",
    "        print('performing post hoc test (Tukey HSD)')\n",
    "        result = tukey_hsd(*args)\n",
    "        print(result)\n",
    "    else:\n",
    "        print(f'no significant differences between the settings were found [F({BG_df}, {WG_df}) = {round(f[0],1)}, p = ns]')"
   ]
  },
  {
   "cell_type": "code",
   "execution_count": 7,
   "metadata": {},
   "outputs": [],
   "source": [
    "def kruskal_wallis(*args):\n",
    "    h = kruskal(*args)\n",
    "    BG_df = len(args) - 1\n",
    "    if h[1] <= .05 and h[1] > .001:\n",
    "        print('There is a significant effect of the simulation setting on the number') \n",
    "        print(f'of pilots that succesfully complete the CT program [H({BG_df}) = {round(h[0],1)}, p = {round(h[1],3)})]')\n",
    "        print('performing post hoc test (Tukey HSD)')\n",
    "        result = tukey_hsd(*args)\n",
    "        print(result)\n",
    "    elif h[1] <= .001:\n",
    "        print('There is a significant effect of the simulation setting on the number') \n",
    "        print(f'of pilots that succesfully complete the CT program [H({BG_df}) = {round(h[0],1)}, p < .001)]')\n",
    "        print('performing post hoc test (Tukey HSD)')\n",
    "        result = tukey_hsd(*args)\n",
    "        print(result)\n",
    "    else:\n",
    "        print(f'no significant differences between the settings were found [H({BG_df}) = {round(h[0],1)}, p = ns)]')"
   ]
  },
  {
   "cell_type": "code",
   "execution_count": 8,
   "metadata": {},
   "outputs": [],
   "source": [
    "def agregate(data):\n",
    "    avgs = []\n",
    "    for i in range(len(data)):\n",
    "        avgs.append(min(data[i]))\n",
    "    return avgs"
   ]
  },
  {
   "cell_type": "code",
   "execution_count": 9,
   "metadata": {},
   "outputs": [],
   "source": [
    "def boxplot(data, legend, ylabel_='No. of Pilots', title_='Completion of Desired CT Program', save_='anova_post_hoc.jpg'):\n",
    "        fig, ax = plt.subplots()\n",
    "        boxes = [d for d in data]\n",
    "        bp = ax.boxplot(boxes, patch_artist=True)\n",
    "        #ax.set(xlabel='osf setting'.format('Arial'))\n",
    "        ax.set(ylabel=ylabel_.format('Arial'))\n",
    "        ax.set_title(title_.format('Arial'))\n",
    "        ax.set_xticklabels([l for l in legend])\n",
    "        for box in bp['boxes']:\n",
    "            box.set( color='k', linewidth=0.5)\n",
    "            box.set( facecolor = 'w' )\n",
    "        for flier in bp['fliers']:\n",
    "            flier.set(marker='o', color='r')#, alpha=0.5\n",
    "        fig.savefig(save_, dpi=300)"
   ]
  },
  {
   "cell_type": "markdown",
   "metadata": {},
   "source": [
    "Import Sets for missions, missions in ACT and pilots:"
   ]
  },
  {
   "cell_type": "code",
   "execution_count": 10,
   "metadata": {},
   "outputs": [],
   "source": [
    "M = {}\n",
    "M_a = {}\n",
    "P = {}\n",
    "\n",
    "with open('C:/Users/Coen/Documents/GitHub/CT_schedule/data/missions.csv', mode='r',encoding='utf-8-sig') as f:\n",
    "    reader = csv.reader(f)\n",
    "    for row in reader:\n",
    "        M[row[0]] = np.genfromtxt(row[1:10], dtype='int')\n",
    "\n",
    "with open('C:/Users/Coen/Documents/GitHub/CT_schedule/data/missions_alternativeCT.csv', mode='r',encoding='utf-8-sig') as f:\n",
    "    reader = csv.reader(f)\n",
    "    for row in reader:\n",
    "        M_a[row[0]] = np.genfromtxt(row[1:10], dtype='int')\n",
    "        \n",
    "with open('C:/Users/Coen/Documents/GitHub/CT_schedule/data/pilots.csv', mode='r',encoding='utf-8-sig') as f:\n",
    "    reader = csv.reader(f)\n",
    "    for row in reader:\n",
    "        P[row[0]] = np.genfromtxt(row[1:6], dtype='int')"
   ]
  },
  {
   "cell_type": "markdown",
   "metadata": {},
   "source": [
    "Function check_CT filters the pilot history for a specific run and sorts in number of completed CT programs. "
   ]
  },
  {
   "cell_type": "code",
   "execution_count": 11,
   "metadata": {},
   "outputs": [],
   "source": [
    "def check_CT_live(hist, missions):\n",
    "    no_sorties = list()\n",
    "    min_CT = 0 \n",
    "    for p in P: \n",
    "        total_sorties_p = sum(hist[p].values())\n",
    "        no_sorties.append(total_sorties_p)\n",
    "        if P[p][4] > 0:\n",
    "            check_min = total_sorties_p >= 41\n",
    "        else:\n",
    "            check_min = total_sorties_p >= 58\n",
    "        count = 0\n",
    "        for m in missions:     \n",
    "            if hist[p][m] - missions[m][P[p][0]] < 0:\n",
    "                count += 1\n",
    "                if verbose:\n",
    "                    print(f'min LIVE failed for pilot {p} on mission {m}')\n",
    "        if count <= 0 and check_min:\n",
    "            min_CT += 1\n",
    "    des_CT = 0 \n",
    "    sorties = sum([sum(hist[k].values()) for k in hist.keys()])\n",
    "    for p in P:\n",
    "        total_sorties_p = sum(hist[p].values())\n",
    "        if P[p][4] > 0:\n",
    "            check_desired = total_sorties_p >= 69\n",
    "        else:\n",
    "            check_desired = total_sorties_p >= 73\n",
    "        count = 0\n",
    "        for m in missions:\n",
    "            if hist[p][m] - missions[m][P[p][1]] < 0:\n",
    "                count += 1\n",
    "                if verbose:\n",
    "                    print(f'desired LIVE failed for pilot {p} on mission {m}')\n",
    "        if count <= 0 and check_desired:\n",
    "            des_CT += 1\n",
    "    \n",
    "    return min_CT, des_CT, sorties, no_sorties\n",
    "    "
   ]
  },
  {
   "cell_type": "markdown",
   "metadata": {},
   "source": [
    "Same function, but for sim missons. Total number of missions and indeces for the coutn check vary between functions"
   ]
  },
  {
   "cell_type": "code",
   "execution_count": 12,
   "metadata": {},
   "outputs": [],
   "source": [
    "def check_CT_sim(hist_sim, missions):\n",
    "    no_sorties = list()\n",
    "    min_CT = 0 \n",
    "    for p in P: \n",
    "        total_sorties_p = sum(hist_sim[p].values())\n",
    "        no_sorties.append(total_sorties_p)\n",
    "        if P[p][4] > 0:\n",
    "            check_min = total_sorties_p >= 37\n",
    "        else:\n",
    "            check_min = total_sorties_p >= 42\n",
    "        count = 0\n",
    "        for m in missions:     \n",
    "            if hist_sim[p][m] - missions[m][P[p][2]] < 0:\n",
    "                count += 1\n",
    "                if verbose:\n",
    "                    print(f'min SIM failed for pilot {p} on mission {m}')\n",
    "        if count <= 0 and check_min:\n",
    "            min_CT += 1\n",
    "    des_CT = 0 \n",
    "    sorties = sum([sum(hist_sim[k].values()) for k in hist_sim.keys()])\n",
    "    for p in P:\n",
    "        total_sorties_p = sum(hist_sim[p].values())\n",
    "        if P[p][4] > 0:\n",
    "            check_desired = total_sorties_p >= 53\n",
    "        else:\n",
    "            check_desired = total_sorties_p >= 72\n",
    "        count = 0\n",
    "        for m in missions:\n",
    "            if hist_sim[p][m] - missions[m][P[p][P[p][3]]] < 0:\n",
    "                count += 1\n",
    "                if verbose:\n",
    "                    print(f'desired SIM failed for pilot {p} on mission {m}')\n",
    "        if count <= 0 and check_desired:\n",
    "            des_CT += 1\n",
    "    \n",
    "    return min_CT, des_CT, sorties, no_sorties"
   ]
  },
  {
   "cell_type": "markdown",
   "metadata": {},
   "source": [
    "Function imprt() iteratively loads all json files in the specified setting folder. Results are writen to a data var. "
   ]
  },
  {
   "cell_type": "code",
   "execution_count": 13,
   "metadata": {},
   "outputs": [],
   "source": [
    "def imprt(run, missions):\n",
    "    data = np.full((len(glob.glob(f'{run}/*CTresults_live.txt')),6), 0)\n",
    "    i = 0\n",
    "    if verbose:\n",
    "        print(f'live missions for setting {run}:')\n",
    "    for file in glob.glob(f'{run}/*CTresults_live.txt'):\n",
    "        with open(file) as f:\n",
    "            hist = json.load(f)\n",
    "            min_CT, des_CT, sorties, no_sorties_live = check_CT_live(hist, missions)\n",
    "            data[i][0] = min_CT\n",
    "            data[i][1] = des_CT\n",
    "            data[i][2] = sorties\n",
    "            i += 1\n",
    "    i = 0\n",
    "    if verbose:\n",
    "        print(f'sim missions for setting {run}:')\n",
    "    for simfile in glob.glob(f'{run}/*CTresults_sim.txt'):\n",
    "        with open(simfile) as g:\n",
    "            hist_sim = json.load(g)\n",
    "            min_CT, des_CT, sorties, no_sorties_sim = check_CT_sim(hist_sim, missions)\n",
    "            data[i][3] = min_CT\n",
    "            data[i][4] = des_CT\n",
    "            data[i][5] = sorties\n",
    "            i += 1\n",
    "    return data"
   ]
  },
  {
   "cell_type": "markdown",
   "metadata": {},
   "source": [
    "Write data from json import to data vars for each setting"
   ]
  },
  {
   "cell_type": "code",
   "execution_count": 14,
   "metadata": {},
   "outputs": [],
   "source": [
    "data_SRWC_ACT = imprt('SR-WC - alternate CT', M_a)\n",
    "data_SRWC_BR = imprt('SR-WC - base osf', M)\n",
    "data_SRWC_HR = imprt('SR-WC - high osf', M)\n",
    "data_SRWC_LR = imprt('SR-WC - low osf', M)\n",
    "data_MRWC = imprt('MR-WC', M)\n",
    "data_DR = imprt('DR', M)\n",
    "data_SRMC = imprt('SR-MC', M)\n"
   ]
  },
  {
   "cell_type": "code",
   "execution_count": 15,
   "metadata": {},
   "outputs": [],
   "source": [
    "avgs_SRWC_ACT = agregate(data_SRWC_ACT)\n",
    "avgs_SRWC_BR = agregate(data_SRWC_BR)\n",
    "avgs_SRWC_HR = agregate(data_SRWC_HR)\n",
    "avgs_SRWC_LR = agregate(data_SRWC_LR)\n",
    "avgs_MRWC = agregate(data_MRWC)\n",
    "avgs_DR = agregate(data_DR)\n",
    "avgs_SRMC = agregate(data_SRMC)\n",
    "   \n",
    "#plt.boxplot(avgs_SRWC_ACT, labels=['SR-WC - alternative CT'])    "
   ]
  },
  {
   "cell_type": "markdown",
   "metadata": {},
   "source": [
    "# The results of the total desired CT completion is depicted in the following boxplot:"
   ]
  },
  {
   "cell_type": "markdown",
   "metadata": {},
   "source": [
    "Comparison for the schedule regeneration setting:"
   ]
  },
  {
   "cell_type": "code",
   "execution_count": 16,
   "metadata": {},
   "outputs": [
    {
     "name": "stdout",
     "output_type": "stream",
     "text": [
      "There is a significant effect of the simulation setting on the number\n",
      "of pilots that succesfully complete the CT program [H(3) = 90.6, p < .001)]\n",
      "performing post hoc test (Tukey HSD)\n",
      "Tukey's HSD Pairwise Group Comparisons (95.0% Confidence Interval)\n",
      "Comparison  Statistic  p-value  Lower CI  Upper CI\n",
      " (0 - 1)      9.433    -0.000     8.056    10.810\n",
      " (0 - 2)      0.700     0.549    -0.677     2.077\n",
      " (0 - 3)      8.067    -0.000     6.690     9.444\n",
      " (1 - 0)     -9.433    -0.000   -10.810    -8.056\n",
      " (1 - 2)     -8.733    -0.000   -10.110    -7.356\n",
      " (1 - 3)     -1.367     0.053    -2.744     0.010\n",
      " (2 - 0)     -0.700     0.549    -2.077     0.677\n",
      " (2 - 1)      8.733    -0.000     7.356    10.110\n",
      " (2 - 3)      7.367    -0.000     5.990     8.744\n",
      " (3 - 0)     -8.067    -0.000    -9.444    -6.690\n",
      " (3 - 1)      1.367     0.053    -0.010     2.744\n",
      " (3 - 2)     -7.367    -0.000    -8.744    -5.990\n",
      "\n",
      "setting SR-WC (Mdn = 16.0)\n",
      "setting SR-MC (Mdn = 6.0)\n",
      "setting MR-WC (Mdn = 15.0)\n",
      "setting DR (Mdn = 8.0)\n"
     ]
    },
    {
     "data": {
      "image/png": "[encoded data removed]",
      "text/plain": [
       "<Figure size 432x288 with 1 Axes>"
      ]
     },
     "metadata": {
      "needs_background": "light"
     },
     "output_type": "display_data"
    }
   ],
   "source": [
    "kruskal_wallis(avgs_SRWC_BR, avgs_SRMC, avgs_MRWC, avgs_DR)\n",
    "mean0, stdev0, med0 = stats(avgs_SRWC_BR)\n",
    "mean1, stdev1, med1 = stats(avgs_SRMC)\n",
    "mean2, stdev2, med2 = stats(avgs_MRWC)\n",
    "mean3, stdev3, med3 = stats(avgs_DR)\n",
    "print(f'setting SR-WC (Mdn = {med0})')\n",
    "print(f'setting SR-MC (Mdn = {med1})')\n",
    "print(f'setting MR-WC (Mdn = {med2})')\n",
    "print(f'setting DR (Mdn = {med3})')\n",
    "boxplot([avgs_SRWC_BR, avgs_SRMC, avgs_MRWC, avgs_DR], ['SR-WC', 'SR-MC', 'MR-WC', 'DR'])"
   ]
  },
  {
   "cell_type": "markdown",
   "metadata": {},
   "source": [
    "osf base rate setting:"
   ]
  },
  {
   "cell_type": "code",
   "execution_count": 17,
   "metadata": {},
   "outputs": [
    {
     "name": "stdout",
     "output_type": "stream",
     "text": [
      "no significant differences between the settings were found [H(2) = 1.6, p = ns)]\n"
     ]
    },
    {
     "data": {
      "image/png": "[encoded data removed]",
      "text/plain": [
       "<Figure size 432x288 with 1 Axes>"
      ]
     },
     "metadata": {
      "needs_background": "light"
     },
     "output_type": "display_data"
    }
   ],
   "source": [
    "kruskal_wallis(avgs_SRWC_BR, avgs_SRWC_HR, avgs_SRWC_LR)\n",
    "boxplot([avgs_SRWC_BR, avgs_SRWC_HR, avgs_SRWC_LR], ['SR-WC - base rate', 'SR-WC - high rate', 'SR-WC - low rate'])"
   ]
  },
  {
   "cell_type": "markdown",
   "metadata": {},
   "source": [
    "Effect of Ct structure of CT completion:"
   ]
  },
  {
   "cell_type": "code",
   "execution_count": 41,
   "metadata": {},
   "outputs": [
    {
     "name": "stdout",
     "output_type": "stream",
     "text": [
      "null hypothesis: samples are from populations with identical distributions\n",
      "SR-WC - regular CT Mann-Whitney U test against SR-WC - alternative CT:\n",
      "SR-WC - regular CT (Mdn = 16.0, N1 = 30)\n",
      "SR-WC - alternative CT (Mdn = 17.0, N2 = 30)\n",
      "Mann Whitney test U(N1 = 30, N2 = 30) = 213.5, p = 0.0\n",
      "With a p < .001 the null hypothesis is rejected\n",
      "The Rank Biserial Correlation (RBC) effect size is 0.526 \n"
     ]
    },
    {
     "data": {
      "image/png": "[encoded data removed]",
      "text/plain": [
       "<Figure size 432x288 with 1 Axes>"
      ]
     },
     "metadata": {
      "needs_background": "light"
     },
     "output_type": "display_data"
    }
   ],
   "source": [
    "mann_whitney(avgs_SRWC_BR, avgs_SRWC_ACT, 'SR-WC - regular CT', 'SR-WC - alternative CT')\n",
    "boxplot([avgs_SRWC_BR, avgs_SRWC_ACT], ['SR-WC - regular CT', 'SR-WC - alternative CT'])"
   ]
  },
  {
   "cell_type": "markdown",
   "metadata": {},
   "source": [
    "# Same but for the minimum CT:"
   ]
  },
  {
   "cell_type": "code",
   "execution_count": 19,
   "metadata": {},
   "outputs": [],
   "source": [
    "avgs_min_SRWC_ACT = agregate(data_SRWC_ACT[:,0:2])\n",
    "avgs_min_SRWC_BR = agregate(data_SRWC_BR[:,0:2])\n",
    "avgs_min_SRWC_HR = agregate(data_SRWC_HR[:,0:2])\n",
    "avgs_min_SRWC_LR = agregate(data_SRWC_LR[:,0:2])\n",
    "avgs_min_MRWC = agregate(data_MRWC[:,0:2])\n",
    "avgs_min_DR = agregate(data_DR[:,0:2])\n",
    "avgs_min_SRMC = agregate(data_SRMC[:,0:2])"
   ]
  },
  {
   "cell_type": "code",
   "execution_count": 20,
   "metadata": {},
   "outputs": [
    {
     "name": "stdout",
     "output_type": "stream",
     "text": [
      "There is a significant effect of the simulation setting on the number\n",
      "of pilots that succesfully complete the CT program [H(3) = 90.8, p < .001)]\n",
      "performing post hoc test (Tukey HSD)\n",
      "Tukey's HSD Pairwise Group Comparisons (95.0% Confidence Interval)\n",
      "Comparison  Statistic  p-value  Lower CI  Upper CI\n",
      " (0 - 1)      9.733    -0.000     8.300    11.167\n",
      " (0 - 2)      0.900     0.362    -0.533     2.333\n",
      " (0 - 3)      7.967    -0.000     6.533     9.400\n",
      " (1 - 0)     -9.733    -0.000   -11.167    -8.300\n",
      " (1 - 2)     -8.833    -0.000   -10.267    -7.400\n",
      " (1 - 3)     -1.767     0.009    -3.200    -0.333\n",
      " (2 - 0)     -0.900     0.362    -2.333     0.533\n",
      " (2 - 1)      8.833    -0.000     7.400    10.267\n",
      " (2 - 3)      7.067    -0.000     5.633     8.500\n",
      " (3 - 0)     -7.967    -0.000    -9.400    -6.533\n",
      " (3 - 1)      1.767     0.009     0.333     3.200\n",
      " (3 - 2)     -7.067    -0.000    -8.500    -5.633\n",
      "\n",
      "setting SR-WC (Mdn = 16.0)\n",
      "setting SR-MC (Mdn = 6.0)\n",
      "setting MR-WC (Mdn = 15.0)\n",
      "setting DR (Mdn = 8.0)\n"
     ]
    },
    {
     "data": {
      "image/png": "[encoded data removed]",
      "text/plain": [
       "<Figure size 432x288 with 1 Axes>"
      ]
     },
     "metadata": {
      "needs_background": "light"
     },
     "output_type": "display_data"
    }
   ],
   "source": [
    "kruskal_wallis(avgs_min_SRWC_BR, avgs_min_SRMC, avgs_min_MRWC, avgs_min_DR)\n",
    "mean0, stdev0, med0 = stats(avgs_min_SRWC_BR)\n",
    "mean1, stdev1, med1 = stats(avgs_min_SRMC)\n",
    "mean2, stdev2, med2 = stats(avgs_min_MRWC)\n",
    "mean3, stdev3, med3 = stats(avgs_min_DR)\n",
    "print(f'setting SR-WC (Mdn = {med0})')\n",
    "print(f'setting SR-MC (Mdn = {med1})')\n",
    "print(f'setting MR-WC (Mdn = {med2})')\n",
    "print(f'setting DR (Mdn = {med3})')\n",
    "boxplot([avgs_min_SRWC_BR, avgs_min_SRMC, avgs_min_MRWC, avgs_min_DR], ['SR-WC', 'SR-MC', 'MR-WC', 'DR'])"
   ]
  },
  {
   "cell_type": "code",
   "execution_count": 29,
   "metadata": {},
   "outputs": [
    {
     "name": "stdout",
     "output_type": "stream",
     "text": [
      "no significant differences between the settings were found [H(2) = 1.1, p = ns)]\n"
     ]
    },
    {
     "data": {
      "image/png": "[encoded data removed]",
      "text/plain": [
       "<Figure size 432x288 with 1 Axes>"
      ]
     },
     "metadata": {
      "needs_background": "light"
     },
     "output_type": "display_data"
    }
   ],
   "source": [
    "kruskal_wallis(avgs_min_SRWC_BR, avgs_min_SRWC_HR, avgs_min_SRWC_LR)\n",
    "boxplot([avgs_min_SRWC_BR, avgs_min_SRWC_HR, avgs_min_SRWC_LR], ['SR-WC - base rate', 'SR-WC - high rate', 'SR-WC - low rate'])"
   ]
  },
  {
   "cell_type": "code",
   "execution_count": 40,
   "metadata": {},
   "outputs": [
    {
     "name": "stdout",
     "output_type": "stream",
     "text": [
      "null hypothesis: samples are from populations with identical distributions\n",
      "SR-WC - regular CT Mann-Whitney U test against SR-WC - alternative CT:\n",
      "SR-WC - regular CT (Mdn = 16.0, N1 = 30)\n",
      "SR-WC - alternative CT (Mdn = 17.0, N2 = 30)\n",
      "Mann Whitney test U(N1 = 30, N2 = 30) = 293.5, p = 0.017\n",
      "With a p value of 0.017 the null hypothesis is rejected\n",
      "The Rank Biserial Correlation (RBC) effect size is 0.526 \n"
     ]
    },
    {
     "data": {
      "image/png": "[encoded data removed]",
      "text/plain": [
       "<Figure size 432x288 with 1 Axes>"
      ]
     },
     "metadata": {
      "needs_background": "light"
     },
     "output_type": "display_data"
    }
   ],
   "source": [
    "mann_whitney(avgs_min_SRWC_BR, avgs_min_SRWC_ACT, 'SR-WC - regular CT', 'SR-WC - alternative CT')\n",
    "boxplot([avgs_min_SRWC_BR, avgs_min_SRWC_ACT], ['SR-WC - regular CT', 'SR-WC - alternative CT'])"
   ]
  },
  {
   "cell_type": "markdown",
   "metadata": {},
   "source": [
    "# FMP data processing"
   ]
  },
  {
   "cell_type": "code",
   "execution_count": null,
   "metadata": {},
   "outputs": [],
   "source": [
    "def imprt_stats(run, missions):\n",
    "    data = np.full((len(glob.glob(f'{run}/*CTresults_live.txt')),6), 0)\n",
    "    i = 0\n",
    "    if verbose:\n",
    "        print(f'live missions for setting {run}:')\n",
    "    for file in glob.glob(f'{run}/*CTresults_live.txt'):\n",
    "        with open(file) as f:\n",
    "            hist = json.load(f)\n",
    "            min_CT, des_CT, sorties, no_sorties_live = check_CT_live(hist, missions)\n",
    "            data[i][0] = min_CT\n",
    "            data[i][1] = des_CT\n",
    "            data[i][2] = sorties\n",
    "            i += 1\n",
    "    i = 0"
   ]
  }
 ],
 "metadata": {
  "kernelspec": {
   "display_name": "Python 3",
   "language": "python",
   "name": "python3"
  },
  "language_info": {
   "codemirror_mode": {
    "name": "ipython",
    "version": 3
   },
   "file_extension": ".py",
   "mimetype": "text/x-python",
   "name": "python",
   "nbconvert_exporter": "python",
   "pygments_lexer": "ipython3",
   "version": "3.8.3"
  }
 },
 "nbformat": 4,
 "nbformat_minor": 4
}

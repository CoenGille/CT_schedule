{
 "cells": [
  {
   "cell_type": "code",
   "execution_count": 1,
   "metadata": {},
   "outputs": [],
   "source": [
    "import pandas as pd"
   ]
  },
  {
   "cell_type": "code",
   "execution_count": 4,
   "metadata": {},
   "outputs": [],
   "source": [
    "    s = pd.read_csv('s.csv', index_col=0, header=0).fillna('')\n",
    "    s.columns = s.columns.astype(int)"
   ]
  },
  {
   "cell_type": "code",
   "execution_count": 6,
   "metadata": {},
   "outputs": [
    {
     "name": "stdout",
     "output_type": "stream",
     "text": [
      "               0   1   2        3        4          5        6        7   8    \\\n",
      "Maverick                     AI_d_2                                             \n",
      "Iceman                                                   DCA_d_4                \n",
      "Viper                                           DCA_n_4                         \n",
      "Goose                                         SDEAD_d_4                         \n",
      "Sundown                                         DCA_n_4  DCA_d_4   AI_d_4       \n",
      "Stinger                                       SDEAD_d_4  CAS_d_4                \n",
      "Jester     OCA_n_2                                                ISR_n_2       \n",
      "Slider                      CAS_d_2           SDEAD_n_4  DCA_d_4                \n",
      "Hollywood                    AI_d_2                               CAS_n_2       \n",
      "Cougar      AI_n_2                    AI_n_4  SDEAD_n_4            AI_d_4       \n",
      "Wolfman                     OCA_d_2                                             \n",
      "Merlin                                                   DCA_d_4                \n",
      "Charlie                                                           ISR_n_2       \n",
      "Chipper        BFM                                       CAS_d_4                \n",
      "Kenny                       OCA_d_2   AI_n_4                       AI_d_4       \n",
      "Loggins                     DCA_n_4             ISR_d_2                         \n",
      "Danger      AI_d_2          ISR_d_2                          BFM  ISR_n_2       \n",
      "Zone                                  AI_n_4                                    \n",
      "Hunter     OCA_n_2                       BFM                      CAS_n_2       \n",
      "Santa                                    BFM    DCA_n_4            AI_d_4       \n",
      "Panic                                 AI_n_4  SDEAD_n_4            AI_d_4       \n",
      "Honk                        DCA_d_4   AI_n_4                                    \n",
      "Sly            BFM                   CAS_n_4             CAS_d_4                \n",
      "Ace        OCA_n_2          DCA_d_4           SDEAD_d_4  DCA_d_4                \n",
      "Tally                                                             ISR_n_2       \n",
      "P26                                   AI_n_4                                    \n",
      "\n",
      "          9    ...        355        356      357 358 359        360      361  \\\n",
      "Maverick       ...                   BFM  DCA_n_2            DCA_n_4            \n",
      "Iceman         ...                                         SDEAD_n_4      BFM   \n",
      "Viper          ...                                                     AI_d_4   \n",
      "Goose          ...                        DCA_n_4                               \n",
      "Sundown        ...             SDEAD_d_4                                        \n",
      "Stinger        ...               CAS_n_2                   SDEAD_n_4            \n",
      "Jester         ...                                                    CAS_d_4   \n",
      "Slider         ...                        OCA_n_2            DCA_n_2            \n",
      "Hollywood      ...                                                              \n",
      "Cougar         ...  SDEAD_n_4              AI_n_4                         BFM   \n",
      "Wolfman        ...                        OCA_n_2                               \n",
      "Merlin         ...               CAS_n_2                                        \n",
      "Charlie        ...                        DCA_n_4                               \n",
      "Chipper        ...             SDEAD_d_4  DCA_n_2                               \n",
      "Kenny          ...    DCA_n_2    CAS_n_2                     DCA_n_4  CAS_d_4   \n",
      "Loggins        ...                                               BFM  OCA_d_4   \n",
      "Danger         ...                                                     AI_d_4   \n",
      "Zone           ...                                                              \n",
      "Hunter         ...                                            AI_d_4   AI_d_4   \n",
      "Santa          ...                                                              \n",
      "Panic          ...             SDEAD_d_4                              CAS_d_4   \n",
      "Honk           ...  SDEAD_d_4                                 AI_d_4            \n",
      "Sly            ...     AI_d_4                                         OCA_d_4   \n",
      "Ace            ...     AI_d_4                                         DCA_n_2   \n",
      "Tally          ...               OCA_d_2                     DCA_n_4            \n",
      "P26            ...     AI_d_4  SDEAD_n_4   AI_n_4                               \n",
      "\n",
      "                 362        363      364  \n",
      "Maverick     OCA_n_4    CAS_d_4           \n",
      "Iceman                           ISR_d_2  \n",
      "Viper                   OCA_n_4           \n",
      "Goose                   CAS_n_2           \n",
      "Sundown                                   \n",
      "Stinger          BFM  SDEAD_d_2  DCA_d_2  \n",
      "Jester                           OCA_n_4  \n",
      "Slider     SDEAD_n_4    CAS_d_4           \n",
      "Hollywood             SDEAD_n_4           \n",
      "Cougar                                    \n",
      "Wolfman                                   \n",
      "Merlin       DCA_d_2    OCA_n_4           \n",
      "Charlie      OCA_n_4    CAS_n_2           \n",
      "Chipper                                   \n",
      "Kenny                 SDEAD_n_4  ISR_d_2  \n",
      "Loggins                                   \n",
      "Danger                                    \n",
      "Zone                                      \n",
      "Hunter                                    \n",
      "Santa                   OCA_n_4           \n",
      "Panic                            OCA_d_4  \n",
      "Honk       SDEAD_n_4                      \n",
      "Sly        SDEAD_n_4                      \n",
      "Ace          DCA_d_2             OCA_n_4  \n",
      "Tally                                     \n",
      "P26                   SDEAD_n_4           \n",
      "\n",
      "[26 rows x 365 columns]\n"
     ]
    }
   ],
   "source": [
    "print(s)"
   ]
  },
  {
   "cell_type": "code",
   "execution_count": null,
   "metadata": {},
   "outputs": [],
   "source": [
    "s = pd.read_csv('s.csv', index_col=0, header=None,skiprows=1).rename(columns=lambda x: x-1)"
   ]
  },
  {
   "cell_type": "code",
   "execution_count": null,
   "metadata": {},
   "outputs": [],
   "source": [
    "s = pd.read_csv('s.csv', index_col=0, header=None,skiprows=1).rename(columns=lambda x: x-1).fillna('')"
   ]
  },
  {
   "cell_type": "code",
   "execution_count": null,
   "metadata": {},
   "outputs": [],
   "source": [
    "print(s)"
   ]
  },
  {
   "cell_type": "code",
   "execution_count": null,
   "metadata": {},
   "outputs": [],
   "source": [
    "for i in s.index:\n",
    "    print(i)"
   ]
  }
 ],
 "metadata": {
  "kernelspec": {
   "display_name": "Python 3",
   "language": "python",
   "name": "python3"
  },
  "language_info": {
   "codemirror_mode": {
    "name": "ipython",
    "version": 3
   },
   "file_extension": ".py",
   "mimetype": "text/x-python",
   "name": "python",
   "nbconvert_exporter": "python",
   "pygments_lexer": "ipython3",
   "version": "3.8.3"
  }
 },
 "nbformat": 4,
 "nbformat_minor": 4
}

{
 "cells": [
  {
   "cell_type": "code",
   "execution_count": 1,
   "metadata": {},
   "outputs": [],
   "source": [
    "import json\n",
    "import csv\n",
    "import numpy as np\n",
    "import pandas as pd"
   ]
  },
  {
   "cell_type": "code",
   "execution_count": 2,
   "metadata": {},
   "outputs": [],
   "source": [
    "with open('results/hist_run_0.txt') as file:\n",
    "    hist = json.load(file)\n",
    "YTP = list()\n",
    "des_YTP = list()\n"
   ]
  },
  {
   "cell_type": "code",
   "execution_count": 3,
   "metadata": {},
   "outputs": [],
   "source": [
    "def imprt():\n",
    "    M = {}\n",
    "    P = {}\n",
    "    \n",
    "    with open('C:\\Users\\Coen\\Documents\\GitHub\\CT_schedule\\data\\missions.csv', mode='r',encoding='utf-8-sig') as f:\n",
    "        reader = csv.reader(f)\n",
    "        for row in reader:\n",
    "            M[row[0]] = np.genfromtxt(row[1:10], dtype='int')\n",
    "    \n",
    "    with open('C:\\Users\\Coen\\Documents\\GitHub\\CT_schedule\\data\\pilots.csv', mode='r',encoding='utf-8-sig') as f:\n",
    "        reader = csv.reader(f)\n",
    "        for row in reader:\n",
    "            P[row[0]] = np.genfromtxt(row[1:6], dtype='int')\n",
    "    return M, P"
   ]
  },
  {
   "cell_type": "code",
   "execution_count": 4,
   "metadata": {},
   "outputs": [],
   "source": [
    "\n",
    "M, P = imprt()"
   ]
  },
  {
   "cell_type": "code",
   "execution_count": 5,
   "metadata": {},
   "outputs": [
    {
     "name": "stdout",
     "output_type": "stream",
     "text": [
      "69\n",
      "Maverick SDEAD_n_4 0 1\n",
      "67\n",
      "Iceman SDEAD_n_4 0 1\n",
      "68\n",
      "Viper SDEAD_n_4 0 1\n",
      "67\n",
      "Goose SDEAD_n_4 0 1\n",
      "68\n",
      "Sundown SDEAD_n_4 0 1\n",
      "69\n",
      "Stinger SDEAD_n_4 0 1\n",
      "70\n",
      "Jester passed min YTP\n",
      "73\n",
      "Slider passed min YTP\n",
      "68\n",
      "Hollywood passed min YTP\n",
      "67\n",
      "Cougar passed min YTP\n",
      "66\n",
      "Wolfman passed min YTP\n",
      "69\n",
      "Merlin passed min YTP\n",
      "68\n",
      "Charlie SDEAD_n_4 0 1\n",
      "73\n",
      "Chipper passed min YTP\n",
      "70\n",
      "Kenny DCA_n_4 0 1\n",
      "73\n",
      "Loggins passed min YTP\n",
      "66\n",
      "Danger CAS_n_4 0 1\n",
      "Danger ISR_n_2 0 1\n",
      "69\n",
      "Zone passed min YTP\n",
      "9 passed the min YTP\n"
     ]
    }
   ],
   "source": [
    "total = 0 \n",
    "for p in P:\n",
    "    count = 0\n",
    "    print(sum(hist[p].values()))\n",
    "    for m in M:     \n",
    "        if hist[p][m] - M[m][5] < 0:\n",
    "            count += 1\n",
    "            #print(m)\n",
    "            print(p, m, hist[p][m], M[m][5])\n",
    "    if count <= 0:\n",
    "        print(p, 'passed min YTP')\n",
    "        total += 1\n",
    "    \n",
    "print(total, 'passed the min YTP')\n",
    "   #     print(p, count)"
   ]
  },
  {
   "cell_type": "code",
   "execution_count": 6,
   "metadata": {},
   "outputs": [
    {
     "name": "stdout",
     "output_type": "stream",
     "text": [
      "Maverick 4 SDEAD_n_4 0 1\n",
      "Iceman 4 OCA_d_2 3 4\n",
      "Iceman 4 SDEAD_n_4 0 1\n",
      "Iceman 4 AI_n_2 1 2\n",
      "Iceman 4 DCA_n_2 1 2\n",
      "Viper 2 SDEAD_n_4 0 1\n",
      "Viper 2 DCA_n_2 1 2\n",
      "Goose 2 SDEAD_n_4 0 1\n",
      "Goose 2 AI_n_2 1 2\n",
      "Goose 2 CAS_d_2 3 4\n",
      "Sundown 0 OCA_n_2 1 2\n",
      "Sundown 0 SDEAD_n_2 1 2\n",
      "Sundown 0 SDEAD_n_4 0 1\n",
      "Sundown 0 AI_n_2 1 2\n",
      "Sundown 0 DCA_n_2 1 2\n",
      "Sundown 0 CAS_d_4 3 4\n",
      "Stinger 0 SDEAD_n_4 0 1\n",
      "Stinger 0 DCA_n_2 1 2\n",
      "Stinger 0 CAS_d_2 3 4\n",
      "Stinger 0 CAS_n_2 1 2\n",
      "Jester 0 SDEAD_n_2 1 2\n",
      "Jester 0 AI_n_2 1 2\n",
      "Jester 0 ISR_n_2 1 2\n",
      "Slider 0 ISR_n_2 1 2\n",
      "Hollywood 4 OCA_n_2 1 2\n",
      "Hollywood 4 ISR_n_2 1 2\n",
      "Cougar 4 OCA_d_2 3 4\n",
      "Cougar 4 SDEAD_n_2 1 2\n",
      "Cougar 4 AI_n_2 1 2\n",
      "Wolfman 2 OCA_n_2 1 2\n",
      "Wolfman 2 SDEAD_d_2 3 4\n",
      "Wolfman 2 AI_n_2 1 2\n",
      "Wolfman 2 DCA_n_2 1 2\n",
      "Wolfman 2 ISR_n_2 1 2\n",
      "Merlin 2 CAS_d_2 3 4\n",
      "Charlie 0 SDEAD_n_4 0 1\n",
      "Charlie 0 AI_d_4 3 4\n",
      "Charlie 0 AI_n_2 1 2\n",
      "Charlie 0 DCA_n_2 1 2\n",
      "Charlie 0 ISR_n_2 1 2\n",
      "Chipper 0 passed desired YTP\n",
      "Kenny 0 OCA_n_2 1 2\n",
      "Kenny 0 DCA_n_4 0 1\n",
      "Kenny 0 CAS_n_2 1 2\n",
      "Loggins 0 passed desired YTP\n",
      "Danger 4 CAS_n_2 1 2\n",
      "Danger 4 CAS_n_4 0 1\n",
      "Danger 4 ISR_n_2 0 2\n",
      "Zone 4 ISR_n_2 1 2\n",
      "2 passed the desired YTP\n",
      "1240 sorties flown\n"
     ]
    }
   ],
   "source": [
    "total = 0 \n",
    "executed = 0\n",
    "for p in P:\n",
    "    count = 0\n",
    "\n",
    "    for m in M:\n",
    "        executed += hist[p][m]\n",
    "        if hist[p][m] - M[m][1] < 0:\n",
    "            count += 1\n",
    "            #print(m)\n",
    "            print(p, P[p][4], m, hist[p][m], M[m][1])\n",
    "            \n",
    "    if count <= 0:\n",
    "        print(p, P[p][4], 'passed desired YTP')\n",
    "        total += 1\n",
    "    \n",
    "print(total, 'passed the desired YTP')\n",
    "print(executed, 'sorties flown')\n",
    "   #     print(p, count)"
   ]
  },
  {
   "cell_type": "code",
   "execution_count": 7,
   "metadata": {
    "scrolled": true
   },
   "outputs": [
    {
     "name": "stdout",
     "output_type": "stream",
     "text": [
      "{'BFM': 12, 'OCA_d_2': 4, 'OCA_d_4': 4, 'OCA_n_2': 2, 'OCA_n_4': 1, 'SDEAD_d_2': 4, 'SDEAD_d_4': 4, 'SDEAD_n_2': 2, 'SDEAD_n_4': 0, 'AI_d_2': 4, 'AI_d_4': 3, 'AI_n_2': 1, 'AI_n_4': 1, 'DCA_d_2': 4, 'DCA_d_4': 4, 'DCA_n_2': 1, 'DCA_n_4': 1, 'CAS_d_2': 4, 'CAS_d_4': 4, 'CAS_n_2': 2, 'CAS_n_4': 1, 'ISR_d_2': 4, 'ISR_n_2': 1}\n"
     ]
    }
   ],
   "source": [
    "print(hist['Charlie'])"
   ]
  },
  {
   "cell_type": "code",
   "execution_count": 8,
   "metadata": {},
   "outputs": [],
   "source": [
    "a = pd.DataFrame([[3,2,1],[6,5,4],[9,8,7]])\n",
    "b = pd.DataFrame([[1,2,3],[4,5,6],[7,8,9]])"
   ]
  },
  {
   "cell_type": "code",
   "execution_count": 9,
   "metadata": {},
   "outputs": [
    {
     "name": "stdout",
     "output_type": "stream",
     "text": [
      "   0  1  2\n",
      "0  1  2  3\n",
      "1  4  5  6\n",
      "2  7  8  9\n",
      "   0  1  2\n",
      "0  3  2  1\n",
      "1  6  5  4\n",
      "2  9  8  7\n"
     ]
    }
   ],
   "source": [
    "print(b)\n",
    "print(a)"
   ]
  },
  {
   "cell_type": "code",
   "execution_count": 10,
   "metadata": {},
   "outputs": [
    {
     "name": "stdout",
     "output_type": "stream",
     "text": [
      "0\n",
      "0    3\n",
      "1    2\n",
      "2    1\n",
      "Name: 0, dtype: int64\n"
     ]
    }
   ],
   "source": [
    "print(a.index[0])\n",
    "print(a.loc[0])"
   ]
  },
  {
   "cell_type": "code",
   "execution_count": 11,
   "metadata": {},
   "outputs": [
    {
     "name": "stdout",
     "output_type": "stream",
     "text": [
      "   0  1  2\n",
      "0  1  2  3\n",
      "1  4  5  6\n",
      "2  7  8  9\n",
      "0  3  2  1\n"
     ]
    }
   ],
   "source": [
    "print(b.append(a.loc[0]))"
   ]
  },
  {
   "cell_type": "code",
   "execution_count": 12,
   "metadata": {},
   "outputs": [
    {
     "name": "stdout",
     "output_type": "stream",
     "text": [
      "   0  1  2\n",
      "0  1  2  3\n",
      "1  4  5  6\n"
     ]
    }
   ],
   "source": [
    "print(b.iloc[0:2,:])"
   ]
  },
  {
   "cell_type": "code",
   "execution_count": 13,
   "metadata": {},
   "outputs": [],
   "source": [
    "c = pd.DataFrame(columns=[\"A\", \"B\"])"
   ]
  },
  {
   "cell_type": "code",
   "execution_count": 14,
   "metadata": {},
   "outputs": [
    {
     "name": "stdout",
     "output_type": "stream",
     "text": [
      "True\n"
     ]
    }
   ],
   "source": [
    "print(c.empty)"
   ]
  }
 ],
 "metadata": {
  "kernelspec": {
   "display_name": "Python 3",
   "language": "python",
   "name": "python3"
  },
  "language_info": {
   "codemirror_mode": {
    "name": "ipython",
    "version": 3
   },
   "file_extension": ".py",
   "mimetype": "text/x-python",
   "name": "python",
   "nbconvert_exporter": "python",
   "pygments_lexer": "ipython3",
   "version": "3.8.3"
  }
 },
 "nbformat": 4,
 "nbformat_minor": 4
}

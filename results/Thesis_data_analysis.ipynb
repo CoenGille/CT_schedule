{
 "cells": [
  {
   "cell_type": "code",
   "execution_count": 1,
   "metadata": {},
   "outputs": [],
   "source": [
    "import glob\n",
    "\n",
    "import csv\n",
    "import statistics\n",
    "import json\n",
    "import math\n",
    "import matplotlib.pyplot as plt\n",
    "import matplotlib\n",
    "import numpy as np\n",
    "import pandas as pd\n",
    "from pingouin import mwu\n",
    "import pylab as py\n",
    "from scipy.stats import pearsonr, ttest_ind, f_oneway, kruskal, tukey_hsd, mannwhitneyu, shapiro\n",
    "import xlsxwriter\n",
    "#import statsmodels.api as sm"
   ]
  },
  {
   "cell_type": "markdown",
   "metadata": {},
   "source": [
    "Settings for data analysis: "
   ]
  },
  {
   "cell_type": "code",
   "execution_count": 2,
   "metadata": {},
   "outputs": [],
   "source": [
    "verbose  = False"
   ]
  },
  {
   "cell_type": "markdown",
   "metadata": {},
   "source": [
    "Statistics functions:"
   ]
  },
  {
   "cell_type": "code",
   "execution_count": 3,
   "metadata": {},
   "outputs": [],
   "source": [
    "def stats(data):\n",
    "    '''Basic statistics. The statistics module doen not adequately handle \n",
    "    integer data'''\n",
    "    mean = sum(data)/len(data)  #mean of dataset \n",
    "    sosq = sum([(i - mean)**2 for i in data])    #sum of squares\n",
    "    var = sosq/(len(data)-1)    #variance of dataset\n",
    "    stdev = math.sqrt(var)      #standard deviation\n",
    "    med = statistics.median(data)\n",
    "    return mean, stdev, med"
   ]
  },
  {
   "cell_type": "code",
   "execution_count": 4,
   "metadata": {},
   "outputs": [],
   "source": [
    "def t_test_2sample(data1, data2, name1, name2):\n",
    "    '''returns APA style report for 2 sample T-test. Independant samples\n",
    "    with equivalent variance are assumed'''\n",
    "    mean1, stdev1, med = stats(data1)\n",
    "    mean2, stdev2, med = stats(data2)\n",
    "    t = ttest_ind(data1, data2)\n",
    "    print('null hypothesis: samples are from populations with identical expected averages')\n",
    "    print(f'{name1} t-test against {name2}:')\n",
    "    print(f'{name1} (M={round(mean1,1)}, SD={round(stdev1,2)})')\n",
    "    print(f'{name2} (M={round(mean2,1)}, SD={round(stdev2,2)})')\n",
    "    print(f'Independant T-test results t({len(data1)-1+len(data2)-1}) = {round(t[0],3)}, p = {round(t[1],3)}')\n",
    "    if t[1] > .001:\n",
    "        print(f'Independant T-test results t({len(data1)-1+len(data2)-1}) = {round(t[0],3)}, p = {round(t[1],3)}')\n",
    "        print('the null hypothesis is not rejected')\n",
    "    else:\n",
    "        print(f'Independant T-test results t({len(data1)-1+len(data2)-1}) = {round(t[0],3)}, p < .001')\n",
    "        print(f'With p < .001 the null hypothesis is rejected')\n"
   ]
  },
  {
   "cell_type": "code",
   "execution_count": 5,
   "metadata": {},
   "outputs": [],
   "source": [
    "def mann_whitney(data1, data2, name1, name2):\n",
    "    '''returns APA style report for 2 sample T-test. Independant samples\n",
    "    with equivalent variance are assumed'''\n",
    "    mean1, stdev1, med1 = stats(data1)\n",
    "    mean2, stdev2, med2 = stats(data2)\n",
    "    u = mannwhitneyu(data1, data2)\n",
    "    u2 = mwu(avgs_SRWC_BR, avgs_SRWC_ACT)\n",
    "    rbc = round(u2['RBC'][0],3)\n",
    "    print('null hypothesis: samples are from populations with identical distributions')\n",
    "    print(f'{name1} Mann-Whitney U test against {name2}:')\n",
    "    print(f'{name1} (Mdn = {round(med1,1)}, N1 = {len(data1)})')\n",
    "    print(f'{name2} (Mdn = {round(med2,1)}, N2 = {len(data2)})')\n",
    "    if u[1] <= .05 and u[1] > .001:\n",
    "        print(f'Mann Whitney test U(N1 = {len(data1)}, N2 = {len(data2)}) = {u[0]}, p = {round(u[1],3)}')\n",
    "        print(f'With a p value of {round(u[1],3)} the null hypothesis is rejected')\n",
    "        print(f'The Rank Biserial Correlation (RBC) effect size is {rbc} ')\n",
    "    elif u[1] <= .001:\n",
    "        print(f'Mann Whitney test U(N1 = {len(data1)}, N2 = {len(data2)}) = {u[0]}, p = {round(u[1],3)}')\n",
    "        print(f'With a p < .001 the null hypothesis is rejected')\n",
    "        print(f'The Rank Biserial Correlation (RBC) effect size is {rbc} ')\n",
    "    else:\n",
    "        print(f'Mann Whitney test U(N1 = {len(data1)}, N2 = {len(data2)}) = {u[0]}, p = {round(u[1],3)}')\n",
    "        print(f'With p = {round(u[1],3)} the null hypothesis is not rejected')\n",
    "\n",
    "    \n"
   ]
  },
  {
   "cell_type": "code",
   "execution_count": 6,
   "metadata": {},
   "outputs": [],
   "source": [
    "def one_way_anova(*args):\n",
    "    f = f_oneway(*args)\n",
    "    BG_df = len(args) - 1\n",
    "    WG_df = sum([len(a) for a in args]) - len(args)\n",
    "    if f[1] <= .05 and f[1] > .001:\n",
    "        print('There is a significant effect of the simulation setting on the number') \n",
    "        print(f'of pilots that succesfully complete the CT program [F({BG_df}, {WG_df}) = {round(f[0],1)}, p = {round(f[1],3)})]')\n",
    "        print('performing post hoc test (Tukey HSD)')\n",
    "        result = tukey_hsd(*args)\n",
    "        print(result)\n",
    "    elif f[1] <= .001:\n",
    "        print('There is a significant effect of the simulation setting on the number') \n",
    "        print(f'of pilots that succesfully complete the CT program [F({BG_df}, {WG_df}) = {round(f[0],1)}, p < .001)]')\n",
    "        print('performing post hoc test (Tukey HSD)')\n",
    "        result = tukey_hsd(*args)\n",
    "        print(result)\n",
    "    else:\n",
    "        print(f'no significant differences between the settings were found [F({BG_df}, {WG_df}) = {round(f[0],1)}, p = ns]')"
   ]
  },
  {
   "cell_type": "code",
   "execution_count": 7,
   "metadata": {},
   "outputs": [],
   "source": [
    "def kruskal_wallis(*args):\n",
    "    h = kruskal(*args)\n",
    "    BG_df = len(args) - 1\n",
    "    if h[1] <= .05 and h[1] > .001:\n",
    "        print('There is a significant effect of the simulation setting on the number') \n",
    "        print(f'of pilots that succesfully complete the CT program [H({BG_df}) = {round(h[0],1)}, p = {round(h[1],3)})]')\n",
    "        print('performing post hoc test (Tukey HSD)')\n",
    "        result = tukey_hsd(*args)\n",
    "        print(result)\n",
    "    elif h[1] <= .001:\n",
    "        print('There is a significant effect of the simulation setting on the number') \n",
    "        print(f'of pilots that succesfully complete the CT program [H({BG_df}) = {round(h[0],1)}, p < .001)]')\n",
    "        print('performing post hoc test (Tukey HSD)')\n",
    "        result = tukey_hsd(*args)\n",
    "        print(result)\n",
    "    else:\n",
    "        print(f'no significant differences between the settings were found [H({BG_df}) = {round(h[0],1)}, p = ns)]')"
   ]
  },
  {
   "cell_type": "code",
   "execution_count": 8,
   "metadata": {},
   "outputs": [],
   "source": [
    "def agregate(data):\n",
    "    avgs = []\n",
    "    for i in range(len(data)):\n",
    "        avgs.append(min(data[i]))\n",
    "    return avgs"
   ]
  },
  {
   "cell_type": "code",
   "execution_count": 9,
   "metadata": {},
   "outputs": [],
   "source": [
    "def agregate_min(data):\n",
    "    avgs = []\n",
    "    for i in range(len(data)):\n",
    "        avgs.append(min(data[i]))\n",
    "    return avgs"
   ]
  },
  {
   "cell_type": "code",
   "execution_count": 10,
   "metadata": {},
   "outputs": [],
   "source": [
    "def boxplot(data, legend, ylabel_='No. of Pilots', title_='Breakdown of CT Completion for SR-WC', save_='anova_post_hoc.jpg'):\n",
    "        fig, ax = plt.subplots()\n",
    "        boxes = [d for d in data]\n",
    "        bp = ax.boxplot(boxes, patch_artist=True)\n",
    "        plt.ylim(top=20, bottom=0)\n",
    "        plt.yticks(np.arange(0, 20, 2.0))\n",
    "        #ax.set(xlabel='osf setting'.format('Arial'))\n",
    "        ax.set(ylabel=ylabel_.format('Arial'))\n",
    "        ax.set_title(title_.format('Arial'))\n",
    "        ax.set_xticklabels([l for l in legend])\n",
    "        for box in bp['boxes']:\n",
    "            box.set( color='k', linewidth=0.5)\n",
    "            box.set( facecolor = 'w' )\n",
    "        for flier in bp['fliers']:\n",
    "            flier.set(marker='o', color='r')#, alpha=0.5\n",
    "        fig.savefig(save_, dpi=300)"
   ]
  },
  {
   "cell_type": "markdown",
   "metadata": {},
   "source": [
    "Import Sets for missions, missions in ACT and pilots:"
   ]
  },
  {
   "cell_type": "code",
   "execution_count": 11,
   "metadata": {},
   "outputs": [],
   "source": [
    "M = {}\n",
    "M_a = {}\n",
    "P = {}\n",
    "\n",
    "with open('C:/Users/Coen/Documents/GitHub/CT_schedule/data/missions.csv', mode='r',encoding='utf-8-sig') as f:\n",
    "    reader = csv.reader(f)\n",
    "    for row in reader:\n",
    "        M[row[0]] = np.genfromtxt(row[1:10], dtype='int')\n",
    "\n",
    "with open('C:/Users/Coen/Documents/GitHub/CT_schedule/data/missions_alternativeCT.csv', mode='r',encoding='utf-8-sig') as f:\n",
    "    reader = csv.reader(f)\n",
    "    for row in reader:\n",
    "        M_a[row[0]] = np.genfromtxt(row[1:10], dtype='int')\n",
    "        \n",
    "with open('C:/Users/Coen/Documents/GitHub/CT_schedule/data/pilots.csv', mode='r',encoding='utf-8-sig') as f:\n",
    "    reader = csv.reader(f)\n",
    "    for row in reader:\n",
    "        P[row[0]] = np.genfromtxt(row[1:6], dtype='int')"
   ]
  },
  {
   "cell_type": "markdown",
   "metadata": {},
   "source": [
    "Function check_CT filters the pilot history for a specific run and sorts in number of completed CT programs. "
   ]
  },
  {
   "cell_type": "code",
   "execution_count": 72,
   "metadata": {},
   "outputs": [],
   "source": [
    "def check_CT(hist, hist_sim, missions, pilots):\n",
    "    completions = np.full((18,6),0)\n",
    "    i = 0\n",
    "    for p in P:\n",
    "        total_sorties_p = sum(hist[p].values())\n",
    "        if P[p][4] > 0:\n",
    "            check_min = total_sorties_p >= 41\n",
    "            check_desired = total_sorties_p >= 69\n",
    "        else:\n",
    "            check_min = total_sorties_p >= 58\n",
    "            check_desired = total_sorties_p >= 73\n",
    "        count = 0\n",
    "        for m in missions:     \n",
    "            if hist[p][m] - missions[m][P[p][0]] < 0:\n",
    "                count += 1\n",
    "                if verbose:\n",
    "                    print(f'min LIVE failed for pilot {p} on mission {m}')\n",
    "        if count <= 0 and check_min:\n",
    "            completions[i][0] = 1\n",
    "\n",
    "        count = 0\n",
    "        for m in missions:\n",
    "            if hist[p][m] - missions[m][P[p][1]] < 0:\n",
    "                count += 1\n",
    "                if verbose:\n",
    "                    print(f'desired LIVE failed for pilot {p} on mission {m}')\n",
    "        if count <= 0 and check_desired:\n",
    "            completions[i][1] = 1\n",
    "        else:\n",
    "            print(f'live {p}')\n",
    "            print(count)\n",
    "        #------ SIM ---------    \n",
    "        total_sorties_p_sim = sum(hist_sim[p].values())\n",
    "        if P[p][4] > 0:\n",
    "            check_min = total_sorties_p_sim >= 37\n",
    "            check_desired = total_sorties_p_sim >= 53\n",
    "        else:\n",
    "            check_min = total_sorties_p_sim >= 42\n",
    "            check_desired = total_sorties_p_sim >= 72\n",
    "        count = 0\n",
    "        for m in missions:     \n",
    "            if hist_sim[p][m] - missions[m][P[p][2]] < 0:\n",
    "                count += 1\n",
    "                if verbose:\n",
    "                    print(f'min SIM failed for pilot {p} on mission {m}')\n",
    "        if count <= 0 and check_min:\n",
    "            completions[i][2] = 1\n",
    "\n",
    "        count = 0\n",
    "        for m in missions:\n",
    "            if hist_sim[p][m] - missions[m][P[p][3]] < 0:\n",
    "                count += 1\n",
    "                if verbose:\n",
    "                    print(f'desired SIM failed for pilot {p} on mission {m}')\n",
    "        if count <= 0 and check_desired:\n",
    "            completions[i][3] = 1\n",
    "        else:\n",
    "            print(f'sim {p}')\n",
    "            print(count)\n",
    "       #print(f'{p}')\n",
    "        #print(count) #use print function to check number of failed desired CT sorties per pilot \n",
    "    #print('end run')\n",
    "        if completions[i][0] + completions[i][2] == 2:\n",
    "            completions[i][4] = 1\n",
    "        if completions[i][1] + completions[i][3] == 2:\n",
    "            completions[i][5] = 1    \n",
    "        i+=1\n",
    "    return completions\n",
    "    "
   ]
  },
  {
   "cell_type": "code",
   "execution_count": 13,
   "metadata": {},
   "outputs": [],
   "source": [
    "def importer(run, missions, pilots, i):\n",
    "    with open(f'{run}/run_{i}_CTresults_live.txt') as f:\n",
    "        hist = json.load(f)\n",
    "    with open(f'{run}/run_{i}_CTresults_sim.txt') as g:\n",
    "        hist_sim = json.load(g)\n",
    "        completions = check_CT(hist, hist_sim, missions, pilots)\n",
    "    return completions"
   ]
  },
  {
   "cell_type": "code",
   "execution_count": 14,
   "metadata": {},
   "outputs": [],
   "source": [
    "def run_analysis(run, missions, pilots):\n",
    "    header = ['min_live', 'des_live', 'min_sim', 'des_sim', 'min_ct', 'des_ct']\n",
    "    names = pilots.keys()\n",
    "    run_summary = np.full((30,6),0)\n",
    "    with pd.ExcelWriter(f'{run}.xlsx') as writer:\n",
    "        for i in range(30):\n",
    "            completions = importer(run, missions, pilots, i)\n",
    "            for j in range(6):\n",
    "                run_summary[i][j] = sum(completions[:,j])          \n",
    "            df = pd.DataFrame(completions,\n",
    "                             index=names,\n",
    "                             columns=header)\n",
    "            df.to_excel(writer, sheet_name=f'run_{i}')\n",
    "        df_sum = pd.DataFrame(run_summary,\n",
    "                             columns=header)\n",
    "        df_sum.to_excel(writer, sheet_name='run_summary')\n",
    "    return run_summary"
   ]
  },
  {
   "cell_type": "markdown",
   "metadata": {},
   "source": [
    "Write data from json import to data vars for each setting"
   ]
  },
  {
   "cell_type": "code",
   "execution_count": 15,
   "metadata": {},
   "outputs": [
    {
     "name": "stderr",
     "output_type": "stream",
     "text": [
      "C:\\Users\\Coen\\AppData\\Roaming\\Python\\Python38\\site-packages\\outdated\\utils.py:14: OutdatedPackageWarning: The package pingouin is out of date. Your version is 0.5.0, the latest is 0.5.1.\n",
      "Set the environment variable OUTDATED_IGNORE=1 to disable these warnings.\n",
      "  return warn(\n"
     ]
    }
   ],
   "source": [
    "data_SRWC_ACT = run_analysis('SR-WC - alternate CT', M_a, P)\n",
    "data_SRWC_BR = run_analysis('SR-WC - base osf', M, P)\n",
    "data_SRWC_HR = run_analysis('SR-WC - high osf', M, P)\n",
    "data_SRWC_LR = run_analysis('SR-WC - low osf', M, P)\n",
    "data_MRWC = run_analysis('MR-WC', M, P)\n",
    "data_DR = run_analysis('DR', M, P)\n",
    "data_SRMC = run_analysis('SR-MC', M, P)\n"
   ]
  },
  {
   "cell_type": "code",
   "execution_count": 75,
   "metadata": {},
   "outputs": [
    {
     "name": "stdout",
     "output_type": "stream",
     "text": [
      "sim Wolfman\n",
      "1\n",
      "sim Chipper\n",
      "1\n",
      "sim Loggins\n",
      "1\n",
      "live Stinger\n",
      "1\n",
      "sim Sundown\n",
      "2\n",
      "sim Stinger\n",
      "1\n",
      "live Hollywood\n",
      "1\n",
      "live Maverick\n",
      "2\n",
      "live Stinger\n",
      "2\n",
      "live Jester\n",
      "2\n",
      "live Cougar\n",
      "1\n",
      "live Maverick\n",
      "1\n",
      "live Cougar\n",
      "1\n",
      "sim Wolfman\n",
      "1\n",
      "live Chipper\n",
      "1\n",
      "live Iceman\n",
      "1\n",
      "live Viper\n",
      "1\n",
      "sim Viper\n",
      "1\n",
      "live Sundown\n",
      "1\n",
      "sim Charlie\n",
      "1\n",
      "live Chipper\n",
      "1\n",
      "sim Loggins\n",
      "1\n",
      "live Maverick\n",
      "1\n",
      "sim Stinger\n",
      "1\n",
      "live Wolfman\n",
      "1\n",
      "live Kenny\n",
      "2\n",
      "sim Kenny\n",
      "2\n",
      "sim Loggins\n",
      "1\n",
      "live Zone\n",
      "1\n",
      "sim Slider\n",
      "1\n",
      "live Iceman\n",
      "1\n",
      "live Stinger\n",
      "4\n",
      "sim Stinger\n",
      "3\n",
      "live Jester\n",
      "2\n",
      "sim Jester\n",
      "3\n",
      "live Charlie\n",
      "2\n",
      "live Chipper\n",
      "1\n",
      "sim Chipper\n",
      "2\n",
      "sim Loggins\n",
      "1\n",
      "live Hollywood\n",
      "1\n",
      "sim Cougar\n",
      "1\n",
      "sim Merlin\n",
      "1\n",
      "live Chipper\n",
      "1\n",
      "live Sundown\n",
      "2\n",
      "sim Jester\n",
      "1\n",
      "live Hollywood\n",
      "2\n",
      "sim Wolfman\n",
      "1\n",
      "live Charlie\n",
      "1\n",
      "live Chipper\n",
      "1\n",
      "sim Iceman\n",
      "1\n",
      "live Sundown\n",
      "1\n",
      "sim Sundown\n",
      "1\n",
      "live Stinger\n",
      "2\n",
      "sim Stinger\n",
      "3\n",
      "live Jester\n",
      "1\n",
      "sim Jester\n",
      "3\n",
      "sim Slider\n",
      "3\n",
      "sim Kenny\n",
      "1\n",
      "live Zone\n",
      "1\n",
      "live Iceman\n",
      "1\n",
      "sim Chipper\n",
      "1\n",
      "sim Kenny\n",
      "1\n",
      "live Loggins\n",
      "5\n",
      "sim Loggins\n",
      "2\n",
      "live Iceman\n",
      "1\n",
      "sim Jester\n",
      "2\n",
      "live Charlie\n",
      "1\n",
      "live Loggins\n",
      "1\n",
      "sim Zone\n",
      "1\n",
      "sim Viper\n",
      "1\n",
      "sim Stinger\n",
      "1\n",
      "live Cougar\n",
      "1\n",
      "live Charlie\n",
      "1\n",
      "live Kenny\n",
      "1\n",
      "sim Loggins\n",
      "1\n",
      "live Sundown\n",
      "2\n",
      "sim Sundown\n",
      "1\n",
      "live Jester\n",
      "1\n",
      "live Slider\n",
      "1\n",
      "sim Kenny\n",
      "1\n",
      "sim Charlie\n",
      "1\n",
      "live Danger\n",
      "1\n",
      "sim Sundown\n",
      "2\n",
      "live Chipper\n",
      "1\n",
      "sim Kenny\n",
      "1\n",
      "live Loggins\n",
      "1\n",
      "sim Loggins\n",
      "1\n",
      "live Zone\n",
      "1\n",
      "sim Jester\n",
      "1\n",
      "live Hollywood\n",
      "1\n",
      "live Zone\n",
      "1\n",
      "sim Stinger\n",
      "1\n",
      "sim Slider\n",
      "1\n",
      "live Loggins\n",
      "1\n",
      "live Maverick\n",
      "1\n",
      "live Sundown\n",
      "4\n",
      "sim Sundown\n",
      "1\n",
      "live Jester\n",
      "1\n",
      "sim Charlie\n",
      "1\n",
      "live Kenny\n",
      "1\n",
      "live Loggins\n",
      "1\n",
      "live Viper\n",
      "1\n",
      "sim Viper\n",
      "1\n",
      "sim Goose\n",
      "1\n",
      "live Slider\n",
      "1\n",
      "sim Charlie\n",
      "1\n",
      "live Viper\n",
      "1\n",
      "live Slider\n",
      "1\n",
      "sim Kenny\n",
      "1\n",
      "sim Loggins\n",
      "1\n",
      "live Hollywood\n",
      "1\n",
      "live Zone\n",
      "1\n",
      "live Hollywood\n",
      "1\n",
      "sim Charlie\n",
      "1\n",
      "live Zone\n",
      "1\n",
      "sim Kenny\n",
      "1\n",
      "sim Viper\n",
      "1\n",
      "sim Sundown\n",
      "1\n",
      "sim Slider\n",
      "1\n",
      "live Wolfman\n",
      "1\n",
      "sim Charlie\n",
      "1\n",
      "live Kenny\n",
      "1\n",
      "sim Danger\n",
      "1\n"
     ]
    }
   ],
   "source": [
    "data_SRWC_BR = run_analysis('SR-WC - base osf', M, P)"
   ]
  },
  {
   "cell_type": "code",
   "execution_count": 16,
   "metadata": {},
   "outputs": [],
   "source": [
    "avgs_SRWC_ACT = data_SRWC_ACT[:,5]\n",
    "avgs_SRWC_BR = data_SRWC_BR[:,5]\n",
    "avgs_SRWC_HR = data_SRWC_HR[:,5]\n",
    "avgs_SRWC_LR = data_SRWC_LR[:,5]\n",
    "avgs_MRWC = data_MRWC[:,5]\n",
    "avgs_DR = data_DR[:,5]\n",
    "avgs_SRMC = data_SRMC[:,5]\n",
    "   \n",
    "#plt.boxplot(avgs_SRWC_ACT, labels=['SR-WC - alternative CT'])    "
   ]
  },
  {
   "cell_type": "code",
   "execution_count": 17,
   "metadata": {},
   "outputs": [],
   "source": [
    "avgs_min_SRWC_ACT = data_SRWC_ACT[:,4]\n",
    "avgs_min_SRWC_BR = data_SRWC_BR[:,4]\n",
    "avgs_min_SRWC_HR = data_SRWC_HR[:,4]\n",
    "avgs_min_SRWC_LR = data_SRWC_LR[:,4]\n",
    "avgs_min_MRWC = data_MRWC[:,4]\n",
    "avgs_min_DR = data_DR[:,4]\n",
    "avgs_min_SRMC = data_SRMC[:,4]"
   ]
  },
  {
   "cell_type": "code",
   "execution_count": 47,
   "metadata": {},
   "outputs": [
    {
     "name": "stdout",
     "output_type": "stream",
     "text": [
      "3\n",
      "0\n",
      "5\n",
      "3\n",
      "7\n",
      "1\n",
      "2\n",
      "3\n",
      "8\n",
      "3\n",
      "4\n",
      "4\n",
      "5\n",
      "5\n",
      "4\n",
      "4\n",
      "3\n",
      "2\n",
      "5\n",
      "5\n",
      "1\n",
      "6\n",
      "5\n",
      "4\n",
      "7\n",
      "0\n",
      "5\n",
      "3\n",
      "4\n",
      "6\n"
     ]
    }
   ],
   "source": [
    "for i in avgs_SRMC:\n",
    "    print(i)"
   ]
  },
  {
   "cell_type": "code",
   "execution_count": 19,
   "metadata": {},
   "outputs": [
    {
     "data": {
      "image/png": "[encoded data removed]",
      "text/plain": [
       "<Figure size 432x288 with 1 Axes>"
      ]
     },
     "metadata": {
      "needs_background": "light"
     },
     "output_type": "display_data"
    }
   ],
   "source": [
    "boxplot([data_SRWC_BR[0:30,0], data_SRWC_BR[0:30,1], data_SRWC_BR[0:30,2], data_SRWC_BR[0:30,3]], ['Min. Live', 'Des. Live', 'Min. Sim.', 'Des. Sim.'])"
   ]
  },
  {
   "cell_type": "markdown",
   "metadata": {},
   "source": [
    "# The results of the total desired CT completion is depicted in the following boxplot:"
   ]
  },
  {
   "cell_type": "markdown",
   "metadata": {},
   "source": [
    "Comparison for the schedule regeneration setting:"
   ]
  },
  {
   "cell_type": "code",
   "execution_count": 55,
   "metadata": {},
   "outputs": [
    {
     "name": "stdout",
     "output_type": "stream",
     "text": [
      "There is a significant effect of the simulation setting on the number\n",
      "of pilots that succesfully complete the CT program [H(3) = 90.1, p < .001)]\n",
      "performing post hoc test (Tukey HSD)\n",
      "Tukey's HSD Pairwise Group Comparisons (95.0% Confidence Interval)\n",
      "Comparison  Statistic  p-value  Lower CI  Upper CI\n",
      " (0 - 1)     10.433    -0.000     9.078    11.788\n",
      " (0 - 2)      0.500     0.771    -0.855     1.855\n",
      " (0 - 3)     10.000    -0.000     8.645    11.355\n",
      " (1 - 0)    -10.433    -0.000   -11.788    -9.078\n",
      " (1 - 2)     -9.933    -0.000   -11.288    -8.578\n",
      " (1 - 3)     -0.433     0.838    -1.788     0.922\n",
      " (2 - 0)     -0.500     0.771    -1.855     0.855\n",
      " (2 - 1)      9.933    -0.000     8.578    11.288\n",
      " (2 - 3)      9.500    -0.000     8.145    10.855\n",
      " (3 - 0)    -10.000    -0.000   -11.355    -8.645\n",
      " (3 - 1)      0.433     0.838    -0.922     1.788\n",
      " (3 - 2)     -9.500    -0.000   -10.855    -8.145\n",
      "\n",
      "setting SR-WC (Mdn = 14.0)\n",
      "setting SR-MC (Mdn = 4.0)\n",
      "setting MR-WC (Mdn = 14.0)\n",
      "setting DR (Mdn = 4.5)\n"
     ]
    },
    {
     "data": {
      "image/png": "[encoded data removed]",
      "text/plain": [
       "<Figure size 432x288 with 1 Axes>"
      ]
     },
     "metadata": {
      "needs_background": "light"
     },
     "output_type": "display_data"
    }
   ],
   "source": [
    "kruskal_wallis(avgs_SRWC_BR, avgs_SRMC, avgs_MRWC, avgs_DR)\n",
    "mean0, stdev0, med0 = stats(avgs_SRWC_BR)\n",
    "mean1, stdev1, med1 = stats(avgs_SRMC)\n",
    "mean2, stdev2, med2 = stats(avgs_MRWC)\n",
    "mean3, stdev3, med3 = stats(avgs_DR)\n",
    "print(f'setting SR-WC (Mdn = {med0})')\n",
    "print(f'setting SR-MC (Mdn = {med1})')\n",
    "print(f'setting MR-WC (Mdn = {med2})')\n",
    "print(f'setting DR (Mdn = {med3})')\n",
    "boxplot([avgs_SRWC_BR, avgs_SRMC, avgs_MRWC, avgs_DR], ['SR-WC', 'SR-MC', 'MR-WC', 'DR'], title_='Desired CT')"
   ]
  },
  {
   "cell_type": "code",
   "execution_count": 52,
   "metadata": {},
   "outputs": [
    {
     "name": "stdout",
     "output_type": "stream",
     "text": [
      "There is a significant effect of the simulation setting on the number\n",
      "of pilots that succesfully complete the CT program [F(3, 116) = 245.6, p < .001)]\n",
      "performing post hoc test (Tukey HSD)\n",
      "Tukey's HSD Pairwise Group Comparisons (95.0% Confidence Interval)\n",
      "Comparison  Statistic  p-value  Lower CI  Upper CI\n",
      " (0 - 1)     10.433    -0.000     9.078    11.788\n",
      " (0 - 2)      0.500     0.771    -0.855     1.855\n",
      " (0 - 3)     10.000    -0.000     8.645    11.355\n",
      " (1 - 0)    -10.433    -0.000   -11.788    -9.078\n",
      " (1 - 2)     -9.933    -0.000   -11.288    -8.578\n",
      " (1 - 3)     -0.433     0.838    -1.788     0.922\n",
      " (2 - 0)     -0.500     0.771    -1.855     0.855\n",
      " (2 - 1)      9.933    -0.000     8.578    11.288\n",
      " (2 - 3)      9.500    -0.000     8.145    10.855\n",
      " (3 - 0)    -10.000    -0.000   -11.355    -8.645\n",
      " (3 - 1)      0.433     0.838    -0.922     1.788\n",
      " (3 - 2)     -9.500    -0.000   -10.855    -8.145\n",
      "\n"
     ]
    }
   ],
   "source": [
    "one_way_anova(avgs_SRWC_BR, avgs_SRMC, avgs_MRWC, avgs_DR)"
   ]
  },
  {
   "cell_type": "code",
   "execution_count": 64,
   "metadata": {},
   "outputs": [
    {
     "name": "stdout",
     "output_type": "stream",
     "text": [
      "setting SR-WC (M = 14.3, SD = 1.97)\n",
      "setting SR-MC (M = 3.9, SD = 1.97)\n",
      "setting MR-WC (M = 13.8, SD = 1.88)\n",
      "setting DR (M = 4.3, SD = 2.22)\n"
     ]
    }
   ],
   "source": [
    "mean0, stdev0, med0 = stats(avgs_SRWC_BR)\n",
    "mean1, stdev1, med1 = stats(avgs_SRMC)\n",
    "mean2, stdev2, med2 = stats(avgs_MRWC)\n",
    "mean3, stdev3, med3 = stats(avgs_DR)\n",
    "print(f'setting SR-WC (M = {round(mean0,1)}, SD = {round(stdev0,2)})')\n",
    "print(f'setting SR-MC (M = {round(mean1,1)}, SD = {round(stdev1,2)})')\n",
    "print(f'setting MR-WC (M = {round(mean2,1)}, SD = {round(stdev2,2)})')\n",
    "print(f'setting DR (M = {round(mean3,1)}, SD = {round(stdev3,2)})')"
   ]
  },
  {
   "cell_type": "markdown",
   "metadata": {},
   "source": [
    "osf base rate setting:"
   ]
  },
  {
   "cell_type": "code",
   "execution_count": 67,
   "metadata": {},
   "outputs": [
    {
     "name": "stdout",
     "output_type": "stream",
     "text": [
      "no significant differences between the settings were found [F(2, 87) = 2.1, p = ns]\n"
     ]
    },
    {
     "data": {
      "image/png": "[encoded data removed]",
      "text/plain": [
       "<Figure size 432x288 with 1 Axes>"
      ]
     },
     "metadata": {
      "needs_background": "light"
     },
     "output_type": "display_data"
    }
   ],
   "source": [
    "one_way_anova(avgs_SRWC_BR, avgs_SRWC_HR, avgs_SRWC_LR)\n",
    "boxplot([avgs_SRWC_BR, avgs_SRWC_HR, avgs_SRWC_LR], ['SR-WC - base rate', 'SR-WC - high rate', 'SR-WC - low rate'], title_='Desired CT')"
   ]
  },
  {
   "cell_type": "markdown",
   "metadata": {},
   "source": [
    "Effect of Ct structure of CT completion:"
   ]
  },
  {
   "cell_type": "code",
   "execution_count": 69,
   "metadata": {},
   "outputs": [
    {
     "name": "stdout",
     "output_type": "stream",
     "text": [
      "null hypothesis: samples are from populations with identical expected averages\n",
      "SR-WC - regular CT t-test against SR-WC - alternative CT:\n",
      "SR-WC - regular CT (M=14.3, SD=1.97)\n",
      "SR-WC - alternative CT (M=15.8, SD=1.3)\n",
      "Independant T-test results t(58) = -3.321, p = 0.002\n",
      "Independant T-test results t(58) = -3.321, p = 0.002\n",
      "the null hypothesis is not rejected\n"
     ]
    },
    {
     "data": {
      "image/png": "[encoded data removed]",
      "text/plain": [
       "<Figure size 432x288 with 1 Axes>"
      ]
     },
     "metadata": {
      "needs_background": "light"
     },
     "output_type": "display_data"
    }
   ],
   "source": [
    "t_test_2sample(avgs_SRWC_BR, avgs_SRWC_ACT, 'SR-WC - regular CT', 'SR-WC - alternative CT')\n",
    "boxplot([avgs_SRWC_BR, avgs_SRWC_ACT], ['SR-WC - regular CT', 'SR-WC - alternative CT'], title_='Desired CT')"
   ]
  },
  {
   "cell_type": "markdown",
   "metadata": {},
   "source": [
    "# Same but for the minimum CT:"
   ]
  },
  {
   "cell_type": "code",
   "execution_count": 56,
   "metadata": {},
   "outputs": [
    {
     "name": "stdout",
     "output_type": "stream",
     "text": [
      "There is a significant effect of the simulation setting on the number\n",
      "of pilots that succesfully complete the CT program [H(3) = 76.4, p < .001)]\n",
      "performing post hoc test (Tukey HSD)\n",
      "Tukey's HSD Pairwise Group Comparisons (95.0% Confidence Interval)\n",
      "Comparison  Statistic  p-value  Lower CI  Upper CI\n",
      " (0 - 1)      4.200     0.000     2.839     5.561\n",
      " (0 - 2)      0.533     0.737    -0.828     1.895\n",
      " (0 - 3)      6.900    -0.000     5.539     8.261\n",
      " (1 - 0)     -4.200     0.000    -5.561    -2.839\n",
      " (1 - 2)     -3.667     0.000    -5.028    -2.305\n",
      " (1 - 3)      2.700     0.000     1.339     4.061\n",
      " (2 - 0)     -0.533     0.737    -1.895     0.828\n",
      " (2 - 1)      3.667     0.000     2.305     5.028\n",
      " (2 - 3)      6.367    -0.000     5.005     7.728\n",
      " (3 - 0)     -6.900    -0.000    -8.261    -5.539\n",
      " (3 - 1)     -2.700     0.000    -4.061    -1.339\n",
      " (3 - 2)     -6.367    -0.000    -7.728    -5.005\n",
      "\n",
      "setting SR-WC (Mdn = 17.0)\n",
      "setting SR-MC (Mdn = 12.0)\n",
      "setting MR-WC (Mdn = 16.0)\n",
      "setting DR (Mdn = 9.5)\n"
     ]
    },
    {
     "data": {
      "image/png": "[encoded data removed]",
      "text/plain": [
       "<Figure size 432x288 with 1 Axes>"
      ]
     },
     "metadata": {
      "needs_background": "light"
     },
     "output_type": "display_data"
    }
   ],
   "source": [
    "kruskal_wallis(avgs_min_SRWC_BR, avgs_min_SRMC, avgs_min_MRWC, avgs_min_DR)\n",
    "mean0, stdev0, med0 = stats(avgs_min_SRWC_BR)\n",
    "mean1, stdev1, med1 = stats(avgs_min_SRMC)\n",
    "mean2, stdev2, med2 = stats(avgs_min_MRWC)\n",
    "mean3, stdev3, med3 = stats(avgs_min_DR)\n",
    "print(f'setting SR-WC (Mdn = {med0})')\n",
    "print(f'setting SR-MC (Mdn = {med1})')\n",
    "print(f'setting MR-WC (Mdn = {med2})')\n",
    "print(f'setting DR (Mdn = {med3})')\n",
    "boxplot([avgs_min_SRWC_BR, avgs_min_SRMC, avgs_min_MRWC, avgs_min_DR], ['SR-WC', 'SR-MC', 'MR-WC', 'DR'], title_='Minimum CT')"
   ]
  },
  {
   "cell_type": "code",
   "execution_count": 65,
   "metadata": {},
   "outputs": [
    {
     "name": "stdout",
     "output_type": "stream",
     "text": [
      "There is a significant effect of the simulation setting on the number\n",
      "of pilots that succesfully complete the CT program [F(3, 116) = 77.5, p < .001)]\n",
      "performing post hoc test (Tukey HSD)\n",
      "Tukey's HSD Pairwise Group Comparisons (95.0% Confidence Interval)\n",
      "Comparison  Statistic  p-value  Lower CI  Upper CI\n",
      " (0 - 1)      4.200     0.000     2.839     5.561\n",
      " (0 - 2)      0.533     0.737    -0.828     1.895\n",
      " (0 - 3)      6.900    -0.000     5.539     8.261\n",
      " (1 - 0)     -4.200     0.000    -5.561    -2.839\n",
      " (1 - 2)     -3.667     0.000    -5.028    -2.305\n",
      " (1 - 3)      2.700     0.000     1.339     4.061\n",
      " (2 - 0)     -0.533     0.737    -1.895     0.828\n",
      " (2 - 1)      3.667     0.000     2.305     5.028\n",
      " (2 - 3)      6.367    -0.000     5.005     7.728\n",
      " (3 - 0)     -6.900    -0.000    -8.261    -5.539\n",
      " (3 - 1)     -2.700     0.000    -4.061    -1.339\n",
      " (3 - 2)     -6.367    -0.000    -7.728    -5.005\n",
      "\n"
     ]
    }
   ],
   "source": [
    "one_way_anova(avgs_min_SRWC_BR, avgs_min_SRMC, avgs_min_MRWC, avgs_min_DR)"
   ]
  },
  {
   "cell_type": "code",
   "execution_count": 66,
   "metadata": {},
   "outputs": [
    {
     "name": "stdout",
     "output_type": "stream",
     "text": [
      "setting SR-WC (M = 16.6, SD = 0.97)\n",
      "setting SR-MC (M = 12.4, SD = 2.82)\n",
      "setting MR-WC (M = 16.1, SD = 1.39)\n",
      "setting DR (M = 9.7, SD = 2.35)\n"
     ]
    }
   ],
   "source": [
    "mean0, stdev0, med0 = stats(avgs_min_SRWC_BR)\n",
    "mean1, stdev1, med1 = stats(avgs_min_SRMC)\n",
    "mean2, stdev2, med2 = stats(avgs_min_MRWC)\n",
    "mean3, stdev3, med3 = stats(avgs_min_DR)\n",
    "print(f'setting SR-WC (M = {round(mean0,1)}, SD = {round(stdev0,2)})')\n",
    "print(f'setting SR-MC (M = {round(mean1,1)}, SD = {round(stdev1,2)})')\n",
    "print(f'setting MR-WC (M = {round(mean2,1)}, SD = {round(stdev2,2)})')\n",
    "print(f'setting DR (M = {round(mean3,1)}, SD = {round(stdev3,2)})')"
   ]
  },
  {
   "cell_type": "code",
   "execution_count": 29,
   "metadata": {},
   "outputs": [
    {
     "name": "stdout",
     "output_type": "stream",
     "text": [
      "null hypothesis: samples are from populations with identical distributions\n",
      "SR-WC Mann-Whitney U test against SR-MC:\n",
      "SR-WC (Mdn = 17.0, N1 = 30)\n",
      "SR-MC (Mdn = 12.0, N2 = 30)\n",
      "Mann Whitney test U(N1 = 30, N2 = 30) = 808.0, p = 0.0\n",
      "With a p < .001 the null hypothesis is rejected\n",
      "The Rank Biserial Correlation (RBC) effect size is 0.436 \n"
     ]
    }
   ],
   "source": [
    "mann_whitney(avgs_min_SRWC_BR, avgs_min_SRMC, 'SR-WC', 'SR-MC')"
   ]
  },
  {
   "cell_type": "code",
   "execution_count": 30,
   "metadata": {},
   "outputs": [
    {
     "name": "stdout",
     "output_type": "stream",
     "text": [
      "null hypothesis: samples are from populations with identical distributions\n",
      "SR-WC Mann-Whitney U test against DR:\n",
      "SR-WC (Mdn = 17.0, N1 = 30)\n",
      "DR (Mdn = 9.5, N2 = 30)\n",
      "Mann Whitney test U(N1 = 30, N2 = 30) = 900.0, p = 0.0\n",
      "With a p < .001 the null hypothesis is rejected\n",
      "The Rank Biserial Correlation (RBC) effect size is 0.436 \n"
     ]
    }
   ],
   "source": [
    "mann_whitney(avgs_min_SRWC_BR, avgs_min_DR, 'SR-WC', 'DR')"
   ]
  },
  {
   "cell_type": "code",
   "execution_count": 31,
   "metadata": {},
   "outputs": [
    {
     "name": "stdout",
     "output_type": "stream",
     "text": [
      "null hypothesis: samples are from populations with identical distributions\n",
      "SR-WC Mann-Whitney U test against MR-WC:\n",
      "SR-WC (Mdn = 17.0, N1 = 30)\n",
      "MR-WC (Mdn = 16.0, N2 = 30)\n",
      "Mann Whitney test U(N1 = 30, N2 = 30) = 544.0, p = 0.153\n",
      "With p = 0.153 the null hypothesis is not rejected\n"
     ]
    }
   ],
   "source": [
    "mann_whitney(avgs_min_SRWC_BR, avgs_min_MRWC, 'SR-WC', 'MR-WC')"
   ]
  },
  {
   "cell_type": "code",
   "execution_count": 32,
   "metadata": {},
   "outputs": [
    {
     "name": "stdout",
     "output_type": "stream",
     "text": [
      "null hypothesis: samples are from populations with identical distributions\n",
      "MR-WC Mann-Whitney U test against SR-MC:\n",
      "MR-WC (Mdn = 16.0, N1 = 30)\n",
      "SR-MC (Mdn = 12.0, N2 = 30)\n",
      "Mann Whitney test U(N1 = 30, N2 = 30) = 772.5, p = 0.0\n",
      "With a p < .001 the null hypothesis is rejected\n",
      "The Rank Biserial Correlation (RBC) effect size is 0.436 \n"
     ]
    }
   ],
   "source": [
    "mann_whitney(avgs_min_MRWC, avgs_min_SRMC, 'MR-WC', 'SR-MC')"
   ]
  },
  {
   "cell_type": "code",
   "execution_count": 33,
   "metadata": {},
   "outputs": [
    {
     "name": "stdout",
     "output_type": "stream",
     "text": [
      "null hypothesis: samples are from populations with identical distributions\n",
      "MR-WC Mann-Whitney U test against DR:\n",
      "MR-WC (Mdn = 16.0, N1 = 30)\n",
      "DR (Mdn = 9.5, N2 = 30)\n",
      "Mann Whitney test U(N1 = 30, N2 = 30) = 893.0, p = 0.0\n",
      "With a p < .001 the null hypothesis is rejected\n",
      "The Rank Biserial Correlation (RBC) effect size is 0.436 \n"
     ]
    }
   ],
   "source": [
    "mann_whitney(avgs_min_MRWC, avgs_min_DR, 'MR-WC', 'DR')"
   ]
  },
  {
   "cell_type": "code",
   "execution_count": 68,
   "metadata": {},
   "outputs": [
    {
     "name": "stdout",
     "output_type": "stream",
     "text": [
      "no significant differences between the settings were found [F(2, 87) = 1.7, p = ns]\n"
     ]
    },
    {
     "data": {
      "image/png": "[encoded data removed]",
      "text/plain": [
       "<Figure size 432x288 with 1 Axes>"
      ]
     },
     "metadata": {
      "needs_background": "light"
     },
     "output_type": "display_data"
    }
   ],
   "source": [
    "one_way_anova(avgs_min_SRWC_BR, avgs_min_SRWC_HR, avgs_min_SRWC_LR)\n",
    "boxplot([avgs_min_SRWC_BR, avgs_min_SRWC_HR, avgs_min_SRWC_LR], ['SR-WC - base rate', 'SR-WC - high rate', 'SR-WC - low rate'], title_='Minimum CT')"
   ]
  },
  {
   "cell_type": "code",
   "execution_count": 60,
   "metadata": {},
   "outputs": [
    {
     "name": "stdout",
     "output_type": "stream",
     "text": [
      "null hypothesis: samples are from populations with identical distributions\n",
      "SR-WC - regular CT Mann-Whitney U test against SR-WC - alternative CT:\n",
      "SR-WC - regular CT (Mdn = 17.0, N1 = 30)\n",
      "SR-WC - alternative CT (Mdn = 18.0, N2 = 30)\n",
      "Mann Whitney test U(N1 = 30, N2 = 30) = 224.0, p = 0.0\n",
      "With a p < .001 the null hypothesis is rejected\n",
      "The Rank Biserial Correlation (RBC) effect size is 0.436 \n"
     ]
    },
    {
     "data": {
      "image/png": "[encoded data removed]",
      "text/plain": [
       "<Figure size 432x288 with 1 Axes>"
      ]
     },
     "metadata": {
      "needs_background": "light"
     },
     "output_type": "display_data"
    }
   ],
   "source": [
    "mann_whitney(avgs_min_SRWC_BR, avgs_min_SRWC_ACT, 'SR-WC - regular CT', 'SR-WC - alternative CT')\n",
    "boxplot([avgs_min_SRWC_BR, avgs_min_SRWC_ACT], ['SR-WC - regular CT', 'SR-WC - alternative CT'], title_='Minimum CT')"
   ]
  },
  {
   "cell_type": "markdown",
   "metadata": {},
   "source": [
    "# FMP data processing"
   ]
  },
  {
   "cell_type": "code",
   "execution_count": 37,
   "metadata": {},
   "outputs": [],
   "source": [
    "def plot_FHR(data):\n",
    "    print('Plot FHR data')\n",
    "\n",
    "def plot_regen(data):\n",
    "    print('Plot dynamic regen function')"
   ]
  },
  {
   "cell_type": "code",
   "execution_count": 38,
   "metadata": {},
   "outputs": [],
   "source": [
    "def run_sampler(run_name):\n",
    "    FHR_actualized = []\n",
    "    waves_weather_cancel = []\n",
    "    sortie_weather_cancel = []\n",
    "    insuf_AC_cancel = []\n",
    "    sortie_executed = []\n",
    "    FT_FMP = []\n",
    "    corrective_MX = {a: [] for a in ['1_small', '1_large', '2_large']}\n",
    "    regen_ratio = []\n",
    "    regen_period = []\n",
    "    runtime = []\n",
    "    for file in glob.glob(f'{run_name}\\*_data.txt'):\n",
    "        with open(file) as f:\n",
    "            a = json.load(f)\n",
    "            FHR_actualized.append(a[\"FHR_cummulative\"])\n",
    "            waves_weather_cancel.append(a[\"waves_weather_cancel\"])\n",
    "            insuf_AC_cancel.append(a[\"sortie_weather_cancel\"])\n",
    "            sortie_executed.append(a[\"insuf_AC_cancel\"])\n",
    "            corrective_MX['1_small'].append(a[\"corrective_MX\"][\"1_small\"])\n",
    "            corrective_MX['1_large'].append(a[\"corrective_MX\"][\"1_large\"])\n",
    "            corrective_MX['2_large'].append(a[\"corrective_MX\"][\"2_large\"])\n",
    "            FT_FMP = a[\"FT_FMP\"]\n",
    "            runtime.append(a[\"runtime_simulation\"])\n",
    "    data_FHR = np.empty([5, 365])\n",
    "    for i in range(365):\n",
    "        data = []\n",
    "        for j in range(30):\n",
    "            data.append(FHR_actualized[j][i])\n",
    "        data_FHR[0][i] = max(data) - FT_FMP[i]\n",
    "        data_FHR[1][i] = min(data) - FT_FMP[i]\n",
    "        data_FHR[2][i] = sum(data)/len(data) - FT_FMP[i]\n",
    "        data_FHR[3][i] = FT_FMP[i] - FT_FMP[i]\n",
    "        data_FHR[4][i] = FT_FMP[i] - FT_FMP[i] - 113\n",
    "    \n",
    "    #plt.plot(FT_FMP, color='tab:red')\n",
    "    plt.plot(data_FHR[0], color='gray', linestyle='dashdot') # max\n",
    "    plt.plot(data_FHR[1], color='grey', linestyle='dashdot') # min\n",
    "    plt.plot(data_FHR[2], color='tab:blue') # mean\n",
    "    plt.plot(data_FHR[3], color='tab:red')\n",
    "    plt.plot(data_FHR[4], color='tab:red', linestyle='dashdot')\n",
    "    plt.ylim([-300,300])\n",
    "    plt.plot\n",
    "    \n",
    "    #plt.plot([FT_FMP[i]/FT_FMP[i] for i in range(len(data_FHR))])\n",
    "    \n",
    "    return FHR_actualized, runtime"
   ]
  },
  {
   "cell_type": "code",
   "execution_count": 39,
   "metadata": {},
   "outputs": [
    {
     "data": {
      "image/png": "[encoded data removed]",
      "text/plain": [
       "<Figure size 432x288 with 1 Axes>"
      ]
     },
     "metadata": {
      "needs_background": "light"
     },
     "output_type": "display_data"
    }
   ],
   "source": [
    "FHR_actualized = run_sampler('MR-WC')"
   ]
  },
  {
   "cell_type": "code",
   "execution_count": 40,
   "metadata": {},
   "outputs": [
    {
     "data": {
      "image/png": "[encoded data removed]",
      "text/plain": [
       "<Figure size 432x288 with 1 Axes>"
      ]
     },
     "metadata": {
      "needs_background": "light"
     },
     "output_type": "display_data"
    }
   ],
   "source": [
    "FHR_actualized = run_sampler('SR-WC - base osf')"
   ]
  },
  {
   "cell_type": "code",
   "execution_count": 41,
   "metadata": {},
   "outputs": [
    {
     "data": {
      "image/png": "[encoded data removed]",
      "text/plain": [
       "<Figure size 432x288 with 1 Axes>"
      ]
     },
     "metadata": {
      "needs_background": "light"
     },
     "output_type": "display_data"
    }
   ],
   "source": [
    "FHR_actualized = run_sampler('SR-WC - low osf')"
   ]
  },
  {
   "cell_type": "code",
   "execution_count": 42,
   "metadata": {},
   "outputs": [
    {
     "data": {
      "image/png": "[encoded data removed]",
      "text/plain": [
       "<Figure size 432x288 with 1 Axes>"
      ]
     },
     "metadata": {
      "needs_background": "light"
     },
     "output_type": "display_data"
    }
   ],
   "source": [
    "FHR_actualized = run_sampler('SR-WC - high osf')"
   ]
  },
  {
   "cell_type": "code",
   "execution_count": 43,
   "metadata": {},
   "outputs": [
    {
     "data": {
      "image/png": "[encoded data removed]",
      "text/plain": [
       "<Figure size 432x288 with 1 Axes>"
      ]
     },
     "metadata": {
      "needs_background": "light"
     },
     "output_type": "display_data"
    }
   ],
   "source": [
    "FHR_actualized = run_sampler('MR-WC')"
   ]
  },
  {
   "cell_type": "code",
   "execution_count": 44,
   "metadata": {},
   "outputs": [
    {
     "name": "stdout",
     "output_type": "stream",
     "text": [
      "2650.0\n",
      "6324.0\n",
      "9160.0\n",
      "14001.0\n",
      "16931.0\n",
      "19793.0\n",
      "23926.0\n",
      "28257.0\n",
      "31039.0\n",
      "40941.0\n",
      "44969.0\n",
      "4834.0\n",
      "48657.0\n",
      "52320.0\n",
      "54758.0\n",
      "57677.0\n",
      "61420.0\n",
      "64750.0\n",
      "66890.0\n",
      "69396.0\n",
      "74574.0\n",
      "76771.0\n",
      "7484.0\n",
      "9924.0\n",
      "11491.0\n",
      "13982.0\n",
      "21609.0\n",
      "23190.0\n",
      "24978.0\n",
      "4143.0\n"
     ]
    },
    {
     "data": {
      "image/png": "[encoded data removed]",
      "text/plain": [
       "<Figure size 432x288 with 1 Axes>"
      ]
     },
     "metadata": {
      "needs_background": "light"
     },
     "output_type": "display_data"
    }
   ],
   "source": [
    "FHR_actualized, runtime = run_sampler('SR-WC - base osf')\n",
    "for i in runtime:\n",
    "    print(np.round(i))"
   ]
  },
  {
   "cell_type": "code",
   "execution_count": 45,
   "metadata": {},
   "outputs": [
    {
     "ename": "NameError",
     "evalue": "name 'data_FHR' is not defined",
     "output_type": "error",
     "traceback": [
      "\u001b[1;31m---------------------------------------------------------------------------\u001b[0m",
      "\u001b[1;31mNameError\u001b[0m                                 Traceback (most recent call last)",
      "\u001b[1;32m<ipython-input-45-022f0357facb>\u001b[0m in \u001b[0;36m<module>\u001b[1;34m\u001b[0m\n\u001b[1;32m----> 1\u001b[1;33m \u001b[0mprint\u001b[0m\u001b[1;33m(\u001b[0m\u001b[0mdata_FHR\u001b[0m\u001b[1;33m)\u001b[0m\u001b[1;33m\u001b[0m\u001b[1;33m\u001b[0m\u001b[0m\n\u001b[0m",
      "\u001b[1;31mNameError\u001b[0m: name 'data_FHR' is not defined"
     ]
    }
   ],
   "source": [
    "print(data_FHR)"
   ]
  }
 ],
 "metadata": {
  "kernelspec": {
   "display_name": "Python 3",
   "language": "python",
   "name": "python3"
  },
  "language_info": {
   "codemirror_mode": {
    "name": "ipython",
    "version": 3
   },
   "file_extension": ".py",
   "mimetype": "text/x-python",
   "name": "python",
   "nbconvert_exporter": "python",
   "pygments_lexer": "ipython3",
   "version": "3.8.3"
  }
 },
 "nbformat": 4,
 "nbformat_minor": 4
}

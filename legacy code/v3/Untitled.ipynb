{
 "cells": [
  {
   "cell_type": "code",
   "execution_count": 15,
   "metadata": {},
   "outputs": [],
   "source": [
    "import numpy as np\n",
    "import pandas as pd\n",
    "from datetime import datetime, timedelta\n",
    "import csv"
   ]
  },
  {
   "cell_type": "code",
   "execution_count": null,
   "metadata": {},
   "outputs": [],
   "source": []
  },
  {
   "cell_type": "code",
   "execution_count": 47,
   "metadata": {},
   "outputs": [],
   "source": [
    "def imprt():\n",
    "    M = {}\n",
    "    P = {}\n",
    "    \n",
    "    with open('data/missions.csv', mode='r',encoding='utf-8-sig') as f:\n",
    "        reader = csv.reader(f)\n",
    "        for row in reader:\n",
    "            M[row[0]] = np.genfromtxt(row[1:10], dtype='int')\n",
    "    \n",
    "    with open('data/pilots.csv', mode='r',encoding='utf-8-sig') as f:\n",
    "        reader = csv.reader(f)\n",
    "        for row in reader:\n",
    "            P[row[0]] = np.genfromtxt(row[1:6], dtype='int')\n",
    "    return M, P"
   ]
  },
  {
   "cell_type": "code",
   "execution_count": 3,
   "metadata": {},
   "outputs": [],
   "source": [
    "class config():\n",
    "    def __init__(self, *args, **kwargs):\n",
    "        self.SC = 4"
   ]
  },
  {
   "cell_type": "code",
   "execution_count": 6,
   "metadata": {},
   "outputs": [
    {
     "name": "stdout",
     "output_type": "stream",
     "text": [
      "4\n"
     ]
    }
   ],
   "source": [
    "cf = config()\n",
    "print(cf.SC)"
   ]
  },
  {
   "cell_type": "code",
   "execution_count": 8,
   "metadata": {},
   "outputs": [],
   "source": [
    "balls = cf.SC"
   ]
  },
  {
   "cell_type": "code",
   "execution_count": 11,
   "metadata": {},
   "outputs": [
    {
     "name": "stdout",
     "output_type": "stream",
     "text": [
      "2\n"
     ]
    }
   ],
   "source": [
    "balls -= 1\n",
    "print(balls)"
   ]
  },
  {
   "cell_type": "code",
   "execution_count": 13,
   "metadata": {},
   "outputs": [
    {
     "name": "stdout",
     "output_type": "stream",
     "text": [
      "4\n"
     ]
    }
   ],
   "source": [
    "print(cf.SC)"
   ]
  },
  {
   "cell_type": "code",
   "execution_count": null,
   "metadata": {},
   "outputs": [],
   "source": [
    "if self.M[mission][0]==4:\n",
    "    new_execution = new_execution.append(FL4.loc[FL4.index[0]])\n",
    "    if FL4.index[0] in FL2.index:\n",
    "        FL2 = FL2.drop(FL4.index[0])\n",
    "    if FL4.index[0] in sortie_.index:\n",
    "        sortie_ = sortie_.drop(FL4.index[0])\n",
    "    FL4 = FL4.drop(FL4.index[0])\n",
    "if len(FL2.index) != 0:\n",
    "    new_execution = new_execution.append(FL2.loc[FL2.index[0]])\n",
    "    if FL2.index[0] in FL4.index:\n",
    "        FL4 = FL4.drop(FL2.index[0])\n",
    "    if FL2.index[0] in sortie_.index:\n",
    "        sortie_ = sortie_.drop(FL2.index[0])\n",
    "    FL2 = FL2.drop(FL2.index[0])\n",
    "if self.M[mission][0]==4:\n",
    "    new_execution = new_execution.append(sortie_.loc[sortie_.index[0:2]])\n",
    "    sortie_ = sortie_.drop(sortie_.index[0:2])\n",
    "else:\n",
    "    new_execution = new_execution.append(sortie_.loc[sortie_.index[0]])\n",
    "    sortie_ = sortie_.drop(sortie_.index[0])"
   ]
  },
  {
   "cell_type": "code",
   "execution_count": 40,
   "metadata": {},
   "outputs": [],
   "source": [
    "df1 = pd.DataFrame(np.array([[1, 2, 3], [4, 5, 6], [7, 8, 9]]),\n",
    "                   columns=['a', 'b', 'c'], index=['peter', 'paul', 'mary'])\n",
    "df2 = pd.DataFrame(np.array([[6, 5, 4], [9, 8, 7]]),\n",
    "                   columns=['a', 'b', 'c'], index=['paul', 'mary'])\n",
    "df3 = pd.DataFrame(np.array([[3, 2, 1], [9, 8, 7]]),\n",
    "                   columns=['a', 'b', 'c'], index=['peter', 'mary'])"
   ]
  },
  {
   "cell_type": "code",
   "execution_count": 28,
   "metadata": {},
   "outputs": [
    {
     "name": "stdout",
     "output_type": "stream",
     "text": [
      "Index(['peter', 'paul'], dtype='object')\n"
     ]
    }
   ],
   "source": [
    "print(df1.index[0:2])"
   ]
  },
  {
   "cell_type": "code",
   "execution_count": 41,
   "metadata": {},
   "outputs": [],
   "source": [
    "for k in df1.index[0:2]:\n",
    "    if k in df2.index:\n",
    "        df2 = df2.drop(k)\n",
    "    if k in df3.index:\n",
    "        df3 = df3.drop(k)"
   ]
  },
  {
   "cell_type": "code",
   "execution_count": 42,
   "metadata": {},
   "outputs": [
    {
     "name": "stdout",
     "output_type": "stream",
     "text": [
      "       a  b  c\n",
      "peter  1  2  3\n",
      "paul   4  5  6\n",
      "mary   7  8  9\n",
      "      a  b  c\n",
      "mary  9  8  7\n",
      "      a  b  c\n",
      "mary  9  8  7\n"
     ]
    }
   ],
   "source": [
    "print(df1)\n",
    "print(df2)\n",
    "print(df3)"
   ]
  }
 ],
 "metadata": {
  "kernelspec": {
   "display_name": "Python 3",
   "language": "python",
   "name": "python3"
  },
  "language_info": {
   "codemirror_mode": {
    "name": "ipython",
    "version": 3
   },
   "file_extension": ".py",
   "mimetype": "text/x-python",
   "name": "python",
   "nbconvert_exporter": "python",
   "pygments_lexer": "ipython3",
   "version": "3.8.3"
  }
 },
 "nbformat": 4,
 "nbformat_minor": 4
}
